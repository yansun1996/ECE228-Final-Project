{
 "cells": [
  {
   "cell_type": "markdown",
   "metadata": {},
   "source": [
    "# Import"
   ]
  },
  {
   "cell_type": "code",
   "execution_count": 2,
   "metadata": {},
   "outputs": [],
   "source": [
    "import numpy as np\n",
    "import pandas as pd\n",
    "import seaborn as sbn\n",
    "import matplotlib.pyplot as plt\n",
    "from sklearn import preprocessing\n",
    "from sklearn.pipeline import make_pipeline\n",
    "from sklearn.model_selection import GridSearchCV\n",
    "from sklearn.model_selection import cross_val_predict, train_test_split\n",
    "from sklearn.metrics import r2_score, mean_squared_error"
   ]
  },
  {
   "cell_type": "markdown",
   "metadata": {},
   "source": [
    "# Load Data"
   ]
  },
  {
   "cell_type": "code",
   "execution_count": 4,
   "metadata": {},
   "outputs": [],
   "source": [
    "train_data = pd.read_csv('../data/tree_train.csv')\n",
    "valid_data = pd.read_csv('../data/tree_valid.csv')\n",
    "train_data = pd.concat([train_data,valid_data])"
   ]
  },
  {
   "cell_type": "code",
   "execution_count": 3,
   "metadata": {},
   "outputs": [
    {
     "data": {
      "text/html": [
       "<div>\n",
       "<style scoped>\n",
       "    .dataframe tbody tr th:only-of-type {\n",
       "        vertical-align: middle;\n",
       "    }\n",
       "\n",
       "    .dataframe tbody tr th {\n",
       "        vertical-align: top;\n",
       "    }\n",
       "\n",
       "    .dataframe thead th {\n",
       "        text-align: right;\n",
       "    }\n",
       "</style>\n",
       "<table border=\"1\" class=\"dataframe\">\n",
       "  <thead>\n",
       "    <tr style=\"text-align: right;\">\n",
       "      <th></th>\n",
       "      <th>Unnamed: 0</th>\n",
       "      <th>spacegroup</th>\n",
       "      <th>percent_atom_al</th>\n",
       "      <th>percent_atom_ga</th>\n",
       "      <th>percent_atom_in</th>\n",
       "      <th>lattice_vector_1_ang</th>\n",
       "      <th>lattice_vector_2_ang</th>\n",
       "      <th>lattice_vector_3_ang</th>\n",
       "      <th>lattice_angle_alpha_degree</th>\n",
       "      <th>lattice_angle_beta_degree</th>\n",
       "      <th>lattice_angle_gamma_degree</th>\n",
       "      <th>formation_energy_ev_natom</th>\n",
       "      <th>bandgap_energy_ev</th>\n",
       "    </tr>\n",
       "  </thead>\n",
       "  <tbody>\n",
       "    <tr>\n",
       "      <th>0</th>\n",
       "      <td>1462</td>\n",
       "      <td>206</td>\n",
       "      <td>0.1875</td>\n",
       "      <td>0.2500</td>\n",
       "      <td>0.5625</td>\n",
       "      <td>9.8238</td>\n",
       "      <td>9.8237</td>\n",
       "      <td>9.8238</td>\n",
       "      <td>90.0019</td>\n",
       "      <td>90.0020</td>\n",
       "      <td>89.9976</td>\n",
       "      <td>0.1833</td>\n",
       "      <td>1.3345</td>\n",
       "    </tr>\n",
       "    <tr>\n",
       "      <th>1</th>\n",
       "      <td>19</td>\n",
       "      <td>12</td>\n",
       "      <td>0.2500</td>\n",
       "      <td>0.2500</td>\n",
       "      <td>0.5000</td>\n",
       "      <td>12.2649</td>\n",
       "      <td>3.1889</td>\n",
       "      <td>6.3388</td>\n",
       "      <td>90.0000</td>\n",
       "      <td>105.0943</td>\n",
       "      <td>90.0001</td>\n",
       "      <td>0.2063</td>\n",
       "      <td>1.5596</td>\n",
       "    </tr>\n",
       "    <tr>\n",
       "      <th>2</th>\n",
       "      <td>970</td>\n",
       "      <td>206</td>\n",
       "      <td>0.6250</td>\n",
       "      <td>0.3750</td>\n",
       "      <td>0.0000</td>\n",
       "      <td>9.1418</td>\n",
       "      <td>9.1413</td>\n",
       "      <td>9.1413</td>\n",
       "      <td>90.0039</td>\n",
       "      <td>90.0043</td>\n",
       "      <td>89.9967</td>\n",
       "      <td>0.1051</td>\n",
       "      <td>3.6341</td>\n",
       "    </tr>\n",
       "    <tr>\n",
       "      <th>3</th>\n",
       "      <td>214</td>\n",
       "      <td>194</td>\n",
       "      <td>0.6875</td>\n",
       "      <td>0.3125</td>\n",
       "      <td>0.0000</td>\n",
       "      <td>6.1650</td>\n",
       "      <td>6.1648</td>\n",
       "      <td>23.5817</td>\n",
       "      <td>90.0177</td>\n",
       "      <td>89.9981</td>\n",
       "      <td>120.0032</td>\n",
       "      <td>0.2311</td>\n",
       "      <td>3.1668</td>\n",
       "    </tr>\n",
       "    <tr>\n",
       "      <th>4</th>\n",
       "      <td>2217</td>\n",
       "      <td>33</td>\n",
       "      <td>0.9062</td>\n",
       "      <td>0.0312</td>\n",
       "      <td>0.0625</td>\n",
       "      <td>9.8901</td>\n",
       "      <td>8.4916</td>\n",
       "      <td>9.1232</td>\n",
       "      <td>90.0055</td>\n",
       "      <td>90.0023</td>\n",
       "      <td>90.0012</td>\n",
       "      <td>0.1067</td>\n",
       "      <td>4.0881</td>\n",
       "    </tr>\n",
       "  </tbody>\n",
       "</table>\n",
       "</div>"
      ],
      "text/plain": [
       "   Unnamed: 0  spacegroup  percent_atom_al  percent_atom_ga  percent_atom_in  \\\n",
       "0        1462         206           0.1875           0.2500           0.5625   \n",
       "1          19          12           0.2500           0.2500           0.5000   \n",
       "2         970         206           0.6250           0.3750           0.0000   \n",
       "3         214         194           0.6875           0.3125           0.0000   \n",
       "4        2217          33           0.9062           0.0312           0.0625   \n",
       "\n",
       "   lattice_vector_1_ang  lattice_vector_2_ang  lattice_vector_3_ang  \\\n",
       "0                9.8238                9.8237                9.8238   \n",
       "1               12.2649                3.1889                6.3388   \n",
       "2                9.1418                9.1413                9.1413   \n",
       "3                6.1650                6.1648               23.5817   \n",
       "4                9.8901                8.4916                9.1232   \n",
       "\n",
       "   lattice_angle_alpha_degree  lattice_angle_beta_degree  \\\n",
       "0                     90.0019                    90.0020   \n",
       "1                     90.0000                   105.0943   \n",
       "2                     90.0039                    90.0043   \n",
       "3                     90.0177                    89.9981   \n",
       "4                     90.0055                    90.0023   \n",
       "\n",
       "   lattice_angle_gamma_degree  formation_energy_ev_natom  bandgap_energy_ev  \n",
       "0                     89.9976                     0.1833             1.3345  \n",
       "1                     90.0001                     0.2063             1.5596  \n",
       "2                     89.9967                     0.1051             3.6341  \n",
       "3                    120.0032                     0.2311             3.1668  \n",
       "4                     90.0012                     0.1067             4.0881  "
      ]
     },
     "execution_count": 3,
     "metadata": {},
     "output_type": "execute_result"
    }
   ],
   "source": [
    "train_data.head()"
   ]
  },
  {
   "cell_type": "markdown",
   "metadata": {},
   "source": [
    "# Data Statistics"
   ]
  },
  {
   "cell_type": "code",
   "execution_count": 4,
   "metadata": {},
   "outputs": [],
   "source": [
    "unique_values_distribution = []\n",
    "def unique_col_values(df):\n",
    "    for column in df:\n",
    "        unique_values_distribution.append ((df[column].name, len(df[column].unique()), df[column].dtype ))\n",
    "        \n",
    "unique_col_values(train_data)\n",
    "\n",
    "columns_heading  = ['Header Name','Unique Count','Data Type']\n",
    "\n",
    "data_distribution = pd.DataFrame.from_records(unique_values_distribution, columns=columns_heading)"
   ]
  },
  {
   "cell_type": "code",
   "execution_count": 5,
   "metadata": {},
   "outputs": [
    {
     "data": {
      "text/html": [
       "<div>\n",
       "<style scoped>\n",
       "    .dataframe tbody tr th:only-of-type {\n",
       "        vertical-align: middle;\n",
       "    }\n",
       "\n",
       "    .dataframe tbody tr th {\n",
       "        vertical-align: top;\n",
       "    }\n",
       "\n",
       "    .dataframe thead th {\n",
       "        text-align: right;\n",
       "    }\n",
       "</style>\n",
       "<table border=\"1\" class=\"dataframe\">\n",
       "  <thead>\n",
       "    <tr style=\"text-align: right;\">\n",
       "      <th></th>\n",
       "      <th>Header Name</th>\n",
       "      <th>Unique Count</th>\n",
       "      <th>Data Type</th>\n",
       "    </tr>\n",
       "  </thead>\n",
       "  <tbody>\n",
       "    <tr>\n",
       "      <th>0</th>\n",
       "      <td>Unnamed: 0</td>\n",
       "      <td>1920</td>\n",
       "      <td>int64</td>\n",
       "    </tr>\n",
       "    <tr>\n",
       "      <th>1</th>\n",
       "      <td>spacegroup</td>\n",
       "      <td>6</td>\n",
       "      <td>int64</td>\n",
       "    </tr>\n",
       "    <tr>\n",
       "      <th>2</th>\n",
       "      <td>percent_atom_al</td>\n",
       "      <td>42</td>\n",
       "      <td>float64</td>\n",
       "    </tr>\n",
       "    <tr>\n",
       "      <th>3</th>\n",
       "      <td>percent_atom_ga</td>\n",
       "      <td>42</td>\n",
       "      <td>float64</td>\n",
       "    </tr>\n",
       "    <tr>\n",
       "      <th>4</th>\n",
       "      <td>percent_atom_in</td>\n",
       "      <td>42</td>\n",
       "      <td>float64</td>\n",
       "    </tr>\n",
       "    <tr>\n",
       "      <th>5</th>\n",
       "      <td>lattice_vector_1_ang</td>\n",
       "      <td>1131</td>\n",
       "      <td>float64</td>\n",
       "    </tr>\n",
       "    <tr>\n",
       "      <th>6</th>\n",
       "      <td>lattice_vector_2_ang</td>\n",
       "      <td>1080</td>\n",
       "      <td>float64</td>\n",
       "    </tr>\n",
       "    <tr>\n",
       "      <th>7</th>\n",
       "      <td>lattice_vector_3_ang</td>\n",
       "      <td>1070</td>\n",
       "      <td>float64</td>\n",
       "    </tr>\n",
       "    <tr>\n",
       "      <th>8</th>\n",
       "      <td>lattice_angle_alpha_degree</td>\n",
       "      <td>422</td>\n",
       "      <td>float64</td>\n",
       "    </tr>\n",
       "    <tr>\n",
       "      <th>9</th>\n",
       "      <td>lattice_angle_beta_degree</td>\n",
       "      <td>509</td>\n",
       "      <td>float64</td>\n",
       "    </tr>\n",
       "    <tr>\n",
       "      <th>10</th>\n",
       "      <td>lattice_angle_gamma_degree</td>\n",
       "      <td>404</td>\n",
       "      <td>float64</td>\n",
       "    </tr>\n",
       "    <tr>\n",
       "      <th>11</th>\n",
       "      <td>formation_energy_ev_natom</td>\n",
       "      <td>1479</td>\n",
       "      <td>float64</td>\n",
       "    </tr>\n",
       "    <tr>\n",
       "      <th>12</th>\n",
       "      <td>bandgap_energy_ev</td>\n",
       "      <td>1864</td>\n",
       "      <td>float64</td>\n",
       "    </tr>\n",
       "  </tbody>\n",
       "</table>\n",
       "</div>"
      ],
      "text/plain": [
       "                   Header Name  Unique Count Data Type\n",
       "0                   Unnamed: 0          1920     int64\n",
       "1                   spacegroup             6     int64\n",
       "2              percent_atom_al            42   float64\n",
       "3              percent_atom_ga            42   float64\n",
       "4              percent_atom_in            42   float64\n",
       "5         lattice_vector_1_ang          1131   float64\n",
       "6         lattice_vector_2_ang          1080   float64\n",
       "7         lattice_vector_3_ang          1070   float64\n",
       "8   lattice_angle_alpha_degree           422   float64\n",
       "9    lattice_angle_beta_degree           509   float64\n",
       "10  lattice_angle_gamma_degree           404   float64\n",
       "11   formation_energy_ev_natom          1479   float64\n",
       "12           bandgap_energy_ev          1864   float64"
      ]
     },
     "execution_count": 5,
     "metadata": {},
     "output_type": "execute_result"
    }
   ],
   "source": [
    "data_distribution"
   ]
  },
  {
   "cell_type": "code",
   "execution_count": 6,
   "metadata": {},
   "outputs": [
    {
     "data": {
      "image/png": "[encoded data removed]",
      "text/plain": [
       "<Figure size 432x288 with 1 Axes>"
      ]
     },
     "metadata": {},
     "output_type": "display_data"
    },
    {
     "data": {
      "image/png": "[encoded data removed]",
      "text/plain": [
       "<Figure size 432x288 with 1 Axes>"
      ]
     },
     "metadata": {},
     "output_type": "display_data"
    },
    {
     "data": {
      "image/png": "[encoded data removed]",
      "text/plain": [
       "<Figure size 432x288 with 1 Axes>"
      ]
     },
     "metadata": {},
     "output_type": "display_data"
    },
    {
     "data": {
      "image/png": "[encoded data removed]",
      "text/plain": [
       "<Figure size 432x288 with 1 Axes>"
      ]
     },
     "metadata": {},
     "output_type": "display_data"
    },
    {
     "data": {
      "image/png": "[encoded data removed]",
      "text/plain": [
       "<Figure size 432x288 with 1 Axes>"
      ]
     },
     "metadata": {},
     "output_type": "display_data"
    },
    {
     "data": {
      "image/png": "[encoded data removed]",
      "text/plain": [
       "<Figure size 432x288 with 1 Axes>"
      ]
     },
     "metadata": {},
     "output_type": "display_data"
    },
    {
     "data": {
      "image/png": "[encoded data removed]",
      "text/plain": [
       "<Figure size 432x288 with 1 Axes>"
      ]
     },
     "metadata": {},
     "output_type": "display_data"
    }
   ],
   "source": [
    "space_groups_data = np.array(train_data['percent_atom_al'])\n",
    "plt.hist(space_groups_data,bins=30)\n",
    "plt.title(\"Histogram of Al %\")\n",
    "plt.xlabel(\"Al %\")\n",
    "plt.ylabel(\"Number\")\n",
    "plt.show()\n",
    "\n",
    "space_groups_data = np.array(train_data['percent_atom_ga'])\n",
    "plt.hist(space_groups_data,bins=30)\n",
    "plt.title(\"Histogram of Ga %\")\n",
    "plt.xlabel(\"Ga %\")\n",
    "plt.ylabel(\"Number\")\n",
    "plt.show()\n",
    "\n",
    "space_groups_data = np.array(train_data['percent_atom_in'])\n",
    "plt.hist(space_groups_data,bins=30)\n",
    "plt.title(\"Histogram of In %\")\n",
    "plt.xlabel(\"In %\")\n",
    "plt.ylabel(\"Number\")\n",
    "plt.show()\n",
    "\n",
    "space_groups_data = np.array(train_data['lattice_vector_1_ang'])\n",
    "plt.hist(space_groups_data,bins=30)\n",
    "plt.title(\"Histogram of Lattice Vector 1\")\n",
    "plt.xlabel(\"Lattice Vector 1 (Angstrom)\")\n",
    "plt.ylabel(\"Number\")\n",
    "plt.show()\n",
    "\n",
    "space_groups_data = np.array(train_data['lattice_vector_2_ang'])\n",
    "plt.hist(space_groups_data,bins=30)\n",
    "plt.title(\"Histogram of Lattice Vector 2\")\n",
    "plt.xlabel(\"Lattice Vector 2 (Angstrom)\")\n",
    "plt.ylabel(\"Number\")\n",
    "plt.show()\n",
    "\n",
    "space_groups_data = np.array(train_data['lattice_vector_3_ang'])\n",
    "plt.hist(space_groups_data,bins=30)\n",
    "plt.title(\"Histogram of Lattice Vector 3\")\n",
    "plt.xlabel(\"Lattice Vector 3 (Angstrom)\")\n",
    "plt.ylabel(\"Number\")\n",
    "plt.show()\n",
    "\n",
    "space_groups_data = np.array(train_data['lattice_angle_alpha_degree'])\n",
    "plt.title(\"Histogram of lattice_angle_alpha_degree\")\n",
    "plt.xlabel(\"lattice_angle_alpha_degree\")\n",
    "plt.ylabel(\"number\")\n",
    "plt.hist(space_groups_data,bins=20)\n",
    "plt.show()"
   ]
  },
  {
   "cell_type": "code",
   "execution_count": 7,
   "metadata": {},
   "outputs": [
    {
     "data": {
      "image/png": "[encoded data removed]",
      "text/plain": [
       "<Figure size 432x288 with 1 Axes>"
      ]
     },
     "metadata": {},
     "output_type": "display_data"
    }
   ],
   "source": [
    "formation_energy_data = np.array(train_data['formation_energy_ev_natom'])\n",
    "plt.hist(formation_energy_data,bins=30)\n",
    "plt.title(\"Histogram of Formation Energy\")\n",
    "plt.xlabel(\"Formation Energy (eV)\")\n",
    "plt.ylabel(\"Number\")\n",
    "plt.show()"
   ]
  },
  {
   "cell_type": "code",
   "execution_count": 8,
   "metadata": {},
   "outputs": [
    {
     "data": {
      "image/png": "[encoded data removed]",
      "text/plain": [
       "<Figure size 432x288 with 1 Axes>"
      ]
     },
     "metadata": {},
     "output_type": "display_data"
    }
   ],
   "source": [
    "bandgap_energy_data = np.array(train_data['bandgap_energy_ev'])\n",
    "plt.title(\"Histogram of Bandgap Energy\")\n",
    "plt.xlabel(\"Bandgap Energy (eV)\")\n",
    "plt.ylabel(\"Number\")\n",
    "plt.hist(bandgap_energy_data,bins=30)\n",
    "plt.show()"
   ]
  },
  {
   "cell_type": "markdown",
   "metadata": {},
   "source": [
    "# Extract Useful Data"
   ]
  },
  {
   "cell_type": "code",
   "execution_count": 11,
   "metadata": {},
   "outputs": [],
   "source": [
    "X_train = train_data.drop([\"Unnamed: 0\",\"formation_energy_ev_natom\",\"bandgap_energy_ev\"],axis=1)\n",
    "Y_formation = train_data[\"formation_energy_ev_natom\"]\n",
    "Y_bandgap = train_data[\"bandgap_energy_ev\"]"
   ]
  },
  {
   "cell_type": "markdown",
   "metadata": {},
   "source": [
    "# Split for Different Tasks"
   ]
  },
  {
   "cell_type": "code",
   "execution_count": 12,
   "metadata": {},
   "outputs": [],
   "source": [
    "formation_X_train, formation_X_test, formation_Y_train, formation_Y_test = train_test_split(X_train,Y_formation,test_size=0.25,random_state=23)\n",
    "bandgap_X_train, bandgap_X_test, bandgap_Y_train, bandgap_Y_test = train_test_split(X_train,Y_bandgap,test_size=0.25,random_state=23)"
   ]
  },
  {
   "cell_type": "markdown",
   "metadata": {},
   "source": [
    "# Set up Model"
   ]
  },
  {
   "cell_type": "code",
   "execution_count": 13,
   "metadata": {},
   "outputs": [],
   "source": [
    "import time\n",
    "from sklearn.svm import SVR\n",
    "from sklearn.tree import DecisionTreeRegressor\n",
    "from sklearn.ensemble import AdaBoostRegressor, GradientBoostingRegressor\n",
    "from sklearn.linear_model import LinearRegression, Ridge, RANSACRegressor\n",
    "from xgboost.sklearn import XGBRegressor"
   ]
  },
  {
   "cell_type": "code",
   "execution_count": 14,
   "metadata": {},
   "outputs": [],
   "source": [
    "adb = AdaBoostRegressor()\n",
    "gbt = GradientBoostingRegressor()\n",
    "xgb = XGBRegressor()\n",
    "\n",
    "models = {'ABR':adb,\n",
    "         'ABR_auto':adb,\n",
    "         'GBT': gbt,\n",
    "         'GBT_auto': gbt,\n",
    "         'XGB': xgb,\n",
    "         'XGB_auto': xgb}"
   ]
  },
  {
   "cell_type": "markdown",
   "metadata": {},
   "source": [
    "configure parameters"
   ]
  },
  {
   "cell_type": "code",
   "execution_count": 15,
   "metadata": {},
   "outputs": [],
   "source": [
    "def hyper_parameters(name):\n",
    "    if name=='ABR':\n",
    "        params = {\n",
    "            'adaboostregressor__n_estimators': [160,170,180,190,200],\n",
    "            'adaboostregressor__loss': ['exponential'],\n",
    "            'adaboostregressor__learning_rate': [0.1]\n",
    "        }\n",
    "    elif name=='ABR_auto':\n",
    "        params = {}\n",
    "    elif name=='GBT':\n",
    "        params = {\n",
    "            'gradientboostingregressor__n_estimators': [90],\n",
    "            'gradientboostingregressor__learning_rate': [0.1],\n",
    "            'gradientboostingregressor__max_depth': [3,7]\n",
    "        }\n",
    "    elif name=='GBT_auto':\n",
    "        params = {}\n",
    "    elif name=='XGB':\n",
    "        params = {\n",
    "            'xgbregressor__max_depth': [13],\n",
    "            'xgbregressor__learning_rate': [0.1],\n",
    "            'xgbregressor__n_estimators': [80],\n",
    "            'xgbregressor__reg_lambda': [0.5],\n",
    "            'xgbregressor__max_delta_step': [0.3]\n",
    "        }\n",
    "    elif name=='XGB_auto':\n",
    "        params = {}\n",
    "    \n",
    "    return params"
   ]
  },
  {
   "cell_type": "markdown",
   "metadata": {},
   "source": [
    "set up criteria"
   ]
  },
  {
   "cell_type": "code",
   "execution_count": 16,
   "metadata": {},
   "outputs": [],
   "source": [
    "def rmsle(pred,target):\n",
    "    return np.sqrt(np.square(np.log(pred + 1) - np.log(target + 1)).mean())\n",
    "def error_info(pred, target):\n",
    "    meansquare_error = mean_squared_error(pred, target)\n",
    "    r2square_error = r2_score(pred, target)\n",
    "    rmslog_error = rmsle(pred, target)\n",
    "    return (meansquare_error, r2square_error, rmslog_error)"
   ]
  },
  {
   "cell_type": "markdown",
   "metadata": {},
   "source": [
    "define pipeline process"
   ]
  },
  {
   "cell_type": "code",
   "execution_count": 17,
   "metadata": {},
   "outputs": [],
   "source": [
    "formation_train_reg = []          \n",
    "formation_test_error_scores = []\n",
    "bandgap_train_reg = []          \n",
    "bandgap_test_error_scores = []\n",
    "    \n",
    "def predict_evaluate(x_train, y_train, x_test, y_test, train_reg, test_error_scores):  \n",
    "    print (\" Start \")\n",
    "    t = time.time()\n",
    "    for i, model in models.items():\n",
    "       \n",
    "        pipe = make_pipeline(preprocessing.StandardScaler(), model)\n",
    "        hyperparameters = hyper_parameters(i)\n",
    "        model_opt = GridSearchCV(pipe, hyperparameters, cv=15)\n",
    "    \n",
    "        # Fit and predict train data\n",
    "        model_opt.fit(x_train, y_train)\n",
    "        \n",
    "        print (i,' trained best score :: ',model_opt.best_score_)\n",
    "        \n",
    "        #print (i,' - ',trainedclfs.best_params_)\n",
    "        \n",
    "        # predict test data\n",
    "        pred_test = model_opt.predict(x_test)\n",
    "        \n",
    "        # Get error scores on test data\n",
    "        mse, r2, rmsle = error_info(y_test, pred_test)\n",
    "\n",
    "        test_error_scores.append ((i,  mse, r2, rmsle))\n",
    "        train_reg.append ((i, model_opt))\n",
    "        \n",
    "    print (\" Training Completed ! \")    \n",
    "    print (\" Total training time :  ({0:.3f} s)\\n\".format(time.time() - t) )\n",
    "    return ( test_error_scores, train_reg)\n",
    "    \n",
    "def error_table (score, labels, sort_col ):\n",
    "    #labels  = ['Clf','mean absolute error','mean square error','R2 squared', 'Mean Sq Log Error', 'Root Mean Sq Log Error']\n",
    "    scored_df = pd.DataFrame.from_records(score, columns=labels, index = None)\n",
    "    sorted_scored = scored_df.sort_values(by = sort_col, ascending=True)\n",
    "    return sorted_scored"
   ]
  },
  {
   "cell_type": "markdown",
   "metadata": {},
   "source": [
    "# Formation Energy"
   ]
  },
  {
   "cell_type": "code",
   "execution_count": 18,
   "metadata": {},
   "outputs": [
    {
     "name": "stdout",
     "output_type": "stream",
     "text": [
      " Start \n",
      "ABR  trained best score ::  0.6779518816878256\n",
      "ABR_auto  trained best score ::  0.6693991788534649\n",
      "GBT  trained best score ::  0.8211154446814724\n",
      "GBT_auto  trained best score ::  0.8208133177960926\n",
      "XGB  trained best score ::  0.7717685166819683\n",
      "XGB_auto  trained best score ::  0.8239832075382272\n",
      " Training Completed ! \n",
      " Total training time :  (117.179 s)\n",
      "\n"
     ]
    }
   ],
   "source": [
    "form_error_scores, trained_pred_form = predict_evaluate(formation_X_train, formation_Y_train, \n",
    "                                                        formation_X_test, formation_Y_test, \n",
    "                                                        formation_train_reg, formation_test_error_scores)"
   ]
  },
  {
   "cell_type": "code",
   "execution_count": 19,
   "metadata": {},
   "outputs": [
    {
     "name": "stdout",
     "output_type": "stream",
     "text": [
      "Formation Energy scores : on test data - ordered by Mean Square Error : \n",
      "\n"
     ]
    },
    {
     "data": {
      "text/html": [
       "<div>\n",
       "<style scoped>\n",
       "    .dataframe tbody tr th:only-of-type {\n",
       "        vertical-align: middle;\n",
       "    }\n",
       "\n",
       "    .dataframe tbody tr th {\n",
       "        vertical-align: top;\n",
       "    }\n",
       "\n",
       "    .dataframe thead th {\n",
       "        text-align: right;\n",
       "    }\n",
       "</style>\n",
       "<table border=\"1\" class=\"dataframe\">\n",
       "  <thead>\n",
       "    <tr style=\"text-align: right;\">\n",
       "      <th></th>\n",
       "      <th>Models</th>\n",
       "      <th>MSE</th>\n",
       "      <th>R Squared</th>\n",
       "      <th>RMSLE</th>\n",
       "    </tr>\n",
       "  </thead>\n",
       "  <tbody>\n",
       "    <tr>\n",
       "      <th>2</th>\n",
       "      <td>GBT</td>\n",
       "      <td>0.001811</td>\n",
       "      <td>0.841096</td>\n",
       "      <td>0.033246</td>\n",
       "    </tr>\n",
       "    <tr>\n",
       "      <th>3</th>\n",
       "      <td>GBT_auto</td>\n",
       "      <td>0.001818</td>\n",
       "      <td>0.840452</td>\n",
       "      <td>0.033289</td>\n",
       "    </tr>\n",
       "    <tr>\n",
       "      <th>5</th>\n",
       "      <td>XGB_auto</td>\n",
       "      <td>0.001819</td>\n",
       "      <td>0.840362</td>\n",
       "      <td>0.033389</td>\n",
       "    </tr>\n",
       "    <tr>\n",
       "      <th>4</th>\n",
       "      <td>XGB</td>\n",
       "      <td>0.002239</td>\n",
       "      <td>0.803488</td>\n",
       "      <td>0.036906</td>\n",
       "    </tr>\n",
       "    <tr>\n",
       "      <th>0</th>\n",
       "      <td>ABR</td>\n",
       "      <td>0.003521</td>\n",
       "      <td>0.691078</td>\n",
       "      <td>0.049077</td>\n",
       "    </tr>\n",
       "    <tr>\n",
       "      <th>1</th>\n",
       "      <td>ABR_auto</td>\n",
       "      <td>0.003790</td>\n",
       "      <td>0.667416</td>\n",
       "      <td>0.050849</td>\n",
       "    </tr>\n",
       "  </tbody>\n",
       "</table>\n",
       "</div>"
      ],
      "text/plain": [
       "     Models       MSE  R Squared     RMSLE\n",
       "2       GBT  0.001811   0.841096  0.033246\n",
       "3  GBT_auto  0.001818   0.840452  0.033289\n",
       "5  XGB_auto  0.001819   0.840362  0.033389\n",
       "4       XGB  0.002239   0.803488  0.036906\n",
       "0       ABR  0.003521   0.691078  0.049077\n",
       "1  ABR_auto  0.003790   0.667416  0.050849"
      ]
     },
     "execution_count": 19,
     "metadata": {},
     "output_type": "execute_result"
    }
   ],
   "source": [
    "labels  = ['Models','MSE', 'R Squared', 'RMSLE']\n",
    "print(\"Formation Energy scores : on test data - ordered by Mean Square Error : \\n\")\n",
    "error_table(form_error_scores, labels,'MSE')"
   ]
  },
  {
   "cell_type": "markdown",
   "metadata": {},
   "source": [
    "# Bandgap Energy"
   ]
  },
  {
   "cell_type": "code",
   "execution_count": 20,
   "metadata": {},
   "outputs": [
    {
     "name": "stdout",
     "output_type": "stream",
     "text": [
      " Start \n",
      "ABR  trained best score ::  0.8682963192374133\n",
      "ABR_auto  trained best score ::  0.8670311359819627\n",
      "GBT  trained best score ::  0.9362549211079715\n",
      "GBT_auto  trained best score ::  0.936685075655451\n",
      "XGB  trained best score ::  0.7763447247673787\n",
      "XGB_auto  trained best score ::  0.9376027633937075\n",
      " Training Completed ! \n",
      " Total training time :  (120.718 s)\n",
      "\n"
     ]
    }
   ],
   "source": [
    "bandgap_error_scores, trained_pred_bandgap = predict_evaluate(bandgap_X_train, bandgap_Y_train, \n",
    "                                                              bandgap_X_test, bandgap_Y_test,\n",
    "                                                              bandgap_train_reg, bandgap_test_error_scores)"
   ]
  },
  {
   "cell_type": "code",
   "execution_count": 21,
   "metadata": {},
   "outputs": [
    {
     "name": "stdout",
     "output_type": "stream",
     "text": [
      "Bandgap Energy scores : on test data - ordered by Mean Square Error : \n",
      "\n"
     ]
    },
    {
     "data": {
      "text/html": [
       "<div>\n",
       "<style scoped>\n",
       "    .dataframe tbody tr th:only-of-type {\n",
       "        vertical-align: middle;\n",
       "    }\n",
       "\n",
       "    .dataframe tbody tr th {\n",
       "        vertical-align: top;\n",
       "    }\n",
       "\n",
       "    .dataframe thead th {\n",
       "        text-align: right;\n",
       "    }\n",
       "</style>\n",
       "<table border=\"1\" class=\"dataframe\">\n",
       "  <thead>\n",
       "    <tr style=\"text-align: right;\">\n",
       "      <th></th>\n",
       "      <th>Models</th>\n",
       "      <th>MSE</th>\n",
       "      <th>R Squared</th>\n",
       "      <th>RMSLE</th>\n",
       "    </tr>\n",
       "  </thead>\n",
       "  <tbody>\n",
       "    <tr>\n",
       "      <th>5</th>\n",
       "      <td>XGB_auto</td>\n",
       "      <td>0.054040</td>\n",
       "      <td>0.950848</td>\n",
       "      <td>0.100080</td>\n",
       "    </tr>\n",
       "    <tr>\n",
       "      <th>3</th>\n",
       "      <td>GBT_auto</td>\n",
       "      <td>0.054310</td>\n",
       "      <td>0.950602</td>\n",
       "      <td>0.102620</td>\n",
       "    </tr>\n",
       "    <tr>\n",
       "      <th>2</th>\n",
       "      <td>GBT</td>\n",
       "      <td>0.054432</td>\n",
       "      <td>0.950492</td>\n",
       "      <td>0.101805</td>\n",
       "    </tr>\n",
       "    <tr>\n",
       "      <th>1</th>\n",
       "      <td>ABR_auto</td>\n",
       "      <td>0.119553</td>\n",
       "      <td>0.891262</td>\n",
       "      <td>0.129700</td>\n",
       "    </tr>\n",
       "    <tr>\n",
       "      <th>0</th>\n",
       "      <td>ABR</td>\n",
       "      <td>0.122771</td>\n",
       "      <td>0.888334</td>\n",
       "      <td>0.132028</td>\n",
       "    </tr>\n",
       "    <tr>\n",
       "      <th>4</th>\n",
       "      <td>XGB</td>\n",
       "      <td>0.234330</td>\n",
       "      <td>0.786867</td>\n",
       "      <td>0.141869</td>\n",
       "    </tr>\n",
       "  </tbody>\n",
       "</table>\n",
       "</div>"
      ],
      "text/plain": [
       "     Models       MSE  R Squared     RMSLE\n",
       "5  XGB_auto  0.054040   0.950848  0.100080\n",
       "3  GBT_auto  0.054310   0.950602  0.102620\n",
       "2       GBT  0.054432   0.950492  0.101805\n",
       "1  ABR_auto  0.119553   0.891262  0.129700\n",
       "0       ABR  0.122771   0.888334  0.132028\n",
       "4       XGB  0.234330   0.786867  0.141869"
      ]
     },
     "execution_count": 21,
     "metadata": {},
     "output_type": "execute_result"
    }
   ],
   "source": [
    "labels  = ['Models','MSE', 'R Squared', 'RMSLE']\n",
    "print(\"Bandgap Energy scores : on test data - ordered by Mean Square Error : \\n\")\n",
    "error_table(bandgap_error_scores, labels,'MSE')"
   ]
  },
  {
   "cell_type": "markdown",
   "metadata": {},
   "source": [
    "# Final Test Prediction for Kaggle Submmit"
   ]
  },
  {
   "cell_type": "code",
   "execution_count": 5,
   "metadata": {},
   "outputs": [],
   "source": [
    "test_data = pd.read_csv('../data/tree_test.csv')\n",
    "test_data = test_data.drop([\"id\",\"number_of_total_atoms\"],axis=1)"
   ]
  },
  {
   "cell_type": "code",
   "execution_count": 23,
   "metadata": {},
   "outputs": [],
   "source": [
    "formation_submit = formation_train_reg[2][1].predict(test_data)\n",
    "bandgap_submit = bandgap_train_reg[-1][1].predict(test_data)\n",
    "idx = np.array([a for a in range(1,len(formation_submit)+1)])"
   ]
  },
  {
   "cell_type": "code",
   "execution_count": 24,
   "metadata": {},
   "outputs": [],
   "source": [
    "sub_data = np.stack((idx,formation_submit,bandgap_submit)).T"
   ]
  },
  {
   "cell_type": "code",
   "execution_count": 25,
   "metadata": {},
   "outputs": [],
   "source": [
    "sub_df = pd.DataFrame(sub_data,columns=[\"id\",\"formation_energy_ev_natom\",\"bandgap_energy_ev\"])\n",
    "sub_df[\"id\"] = sub_df[\"id\"].astype(\"int\")\n",
    "sub_df.set_index(\"id\")\n",
    "sub_df.to_csv(\"sub_5_12_2018.csv\",index=False)"
   ]
  },
  {
   "cell_type": "code",
   "execution_count": 30,
   "metadata": {},
   "outputs": [
    {
     "data": {
      "text/plain": [
       "('ABR_auto', GridSearchCV(cv=15, error_score='raise',\n",
       "        estimator=Pipeline(memory=None,\n",
       "      steps=[('standardscaler', StandardScaler(copy=True, with_mean=True, with_std=True)), ('adaboostregressor', AdaBoostRegressor(base_estimator=None, learning_rate=1.0, loss='linear',\n",
       "          n_estimators=50, random_state=None))]),\n",
       "        fit_params=None, iid=True, n_jobs=1, param_grid={},\n",
       "        pre_dispatch='2*n_jobs', refit=True, return_train_score='warn',\n",
       "        scoring=None, verbose=0))"
      ]
     },
     "execution_count": 30,
     "metadata": {},
     "output_type": "execute_result"
    }
   ],
   "source": [
    "formation_train_reg[1]"
   ]
  },
  {
   "cell_type": "code",
   "execution_count": null,
   "metadata": {},
   "outputs": [],
   "source": []
  },
  {
   "cell_type": "code",
   "execution_count": null,
   "metadata": {},
   "outputs": [],
   "source": []
  }
 ],
 "metadata": {
  "kernelspec": {
   "display_name": "Python 3",
   "language": "python",
   "name": "python3"
  },
  "language_info": {
   "codemirror_mode": {
    "name": "ipython",
    "version": 3
   },
   "file_extension": ".py",
   "mimetype": "text/x-python",
   "name": "python",
   "nbconvert_exporter": "python",
   "pygments_lexer": "ipython3",
   "version": "3.6.4"
  }
 },
 "nbformat": 4,
 "nbformat_minor": 2
}
