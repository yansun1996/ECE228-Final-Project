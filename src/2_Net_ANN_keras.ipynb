{
 "cells": [
  {
   "cell_type": "code",
   "execution_count": 1,
   "metadata": {},
   "outputs": [
    {
     "name": "stderr",
     "output_type": "stream",
     "text": [
      "/opt/conda/lib/python2.7/site-packages/h5py/__init__.py:36: FutureWarning: Conversion of the second argument of issubdtype from `float` to `np.floating` is deprecated. In future, it will be treated as `np.float64 == np.dtype(float).type`.\n",
      "  from ._conv import register_converters as _register_converters\n",
      "Using TensorFlow backend.\n"
     ]
    }
   ],
   "source": [
    "import pandas as pd\n",
    "import matplotlib.pyplot as plt\n",
    "import numpy as np\n",
    "#from sklearn.model_selection import train_test_split\n",
    "#from sklearn.linear_model import LinearRegression\n",
    "#from sklearn.model_selection import KFold\n",
    "#from sklearn.metrics import log_loss,mean_squared_error\n",
    "import keras\n",
    "from keras.models import Sequential\n",
    "from keras.layers import Dense,Dropout,BatchNormalization\n",
    "from keras.callbacks import ModelCheckpoint\n",
    "from tqdm import tqdm"
   ]
  },
  {
   "cell_type": "code",
   "execution_count": 2,
   "metadata": {},
   "outputs": [
    {
     "name": "stdout",
     "output_type": "stream",
     "text": [
      "('Number of rows and columns in all data set:', (2400, 13))\n",
      "('Number of rows and columns in train_data data set:', (2400, 11))\n",
      "('Number of rows and columns in train_labels data set:', (2400, 2))\n"
     ]
    }
   ],
   "source": [
    "#Import the train dataset\n",
    "train_id = pd.read_csv('../data/net_train.csv')\n",
    "train.head()\n",
    "\n",
    "#Drop two column\n",
    "train = train.drop(['id'], axis = 1)\n",
    "print('Number of rows and columns in all data set:',train.shape)\n",
    "\n",
    "train_labels = train[['formation_energy_ev_natom', 'bandgap_energy_ev']]\n",
    "train_data = train.drop(['formation_energy_ev_natom', 'bandgap_energy_ev'], axis = 1)\n",
    "print('Number of rows and columns in train_data data set:',train_data.shape)\n",
    "print('Number of rows and columns in train_labels data set:',train_labels.shape)"
   ]
  },
  {
   "cell_type": "code",
   "execution_count": 3,
   "metadata": {},
   "outputs": [
    {
     "name": "stdout",
     "output_type": "stream",
     "text": [
      "('Number of rows and columns in all data set:', (600, 11))\n",
      "('Number of rows and columns in test data set:', (600, 11))\n"
     ]
    }
   ],
   "source": [
    "#Import the test dataset\n",
    "test = pd.read_csv('../data/net_test.csv')\n",
    "test.head()\n",
    "\n",
    "#Drop two column\n",
    "test = test.drop(['id'], axis = 1)\n",
    "print('Number of rows and columns in all data set:',test.shape)\n",
    "\n",
    "print('Number of rows and columns in test data set:',test.shape)"
   ]
  },
  {
   "cell_type": "code",
   "execution_count": 4,
   "metadata": {},
   "outputs": [],
   "source": [
    "# Degree to radian\n",
    "train_data['alpha_rad'] = np.radians(train_data['lattice_angle_alpha_degree'])\n",
    "train_data['beta_rad'] = np.radians(train_data['lattice_angle_beta_degree'])\n",
    "train_data['gamma_rad'] = np.radians(train_data['lattice_angle_gamma_degree'])\n",
    "\n",
    "test['alpha_rad'] = np.radians(test['lattice_angle_alpha_degree'])\n",
    "test['beta_rad'] = np.radians(test['lattice_angle_beta_degree'])\n",
    "test['gamma_rad'] = np.radians(test['lattice_angle_gamma_degree'])"
   ]
  },
  {
   "cell_type": "code",
   "execution_count": 5,
   "metadata": {},
   "outputs": [],
   "source": [
    "def vol(df):\n",
    "    \"\"\"\n",
    "    Args:\n",
    "        a (float) - lattice vector 1\n",
    "        b (float) - lattice vector 2\n",
    "        c (float) - lattice vector 3\n",
    "        alpha (float) - lattice angle 1 [radians]\n",
    "        beta (float) - lattice angle 2 [radians]\n",
    "        gamma (float) - lattice angle 3 [radians]\n",
    "    Returns:\n",
    "        volume (float) of the parallelepiped unit cell\n",
    "    \"\"\"\n",
    "    volumn = df['lattice_vector_1_ang']*df['lattice_vector_2_ang']*df['lattice_vector_3_ang']*np.sqrt(\n",
    "    1 + 2*np.cos(df['alpha_rad'])*np.cos(df['beta_rad'])*np.cos(df['gamma_rad'])\n",
    "    -np.cos(df['alpha_rad'])**2\n",
    "    -np.cos(df['beta_rad'])**2\n",
    "    -np.cos(df['gamma_rad'])**2)\n",
    "    df['volumn'] = volumn"
   ]
  },
  {
   "cell_type": "code",
   "execution_count": 6,
   "metadata": {},
   "outputs": [
    {
     "data": {
      "text/plain": [
       "\"\\ndef mean_median_feature(df):\\n        print('# Mean & Median range')\\n        dmean = df.mean()\\n        dmedian = df.median()\\n        #q0_1 = df.quantile(0.1)\\n        #q0_99 = df.quantile(0.99)\\n        q1 = df.quantile(0.25)\\n        q3 = df.quantile(0.75)\\n        col = df.columns\\n        del_col = ['id','formation_energy_ev_natom','bandgap_energy_ev']\\n        col = [w for w in col if w not in del_col]\\n        \\n        for c in col:\\n            df['mean_'+c] = (df[c] > dmean[c]).astype(np.uint8)\\n            df['median_'+c] = (df[c] > dmedian[c]).astype(np.uint8)\\n            #df['q0_1_'+c] = (df[c] < q0_1[c]).astype(np.uint8)\\n            #df['q0_99_'+c] = (df[c] > q0_99[c]).astype(np.uint8)\\n            df['q1_'+c] = (df[c] < q1[c]).astype(np.uint8)\\n            df['q3_'+c] = (df[c] > q3[c]).astype(np.uint8)\\n            \\n        print('Shape',df.shape)\\n\""
      ]
     },
     "execution_count": 6,
     "metadata": {},
     "output_type": "execute_result"
    }
   ],
   "source": [
    "'''\n",
    "def mean_median_feature(df):\n",
    "        print('# Mean & Median range')\n",
    "        dmean = df.mean()\n",
    "        dmedian = df.median()\n",
    "        #q0_1 = df.quantile(0.1)\n",
    "        #q0_99 = df.quantile(0.99)\n",
    "        q1 = df.quantile(0.25)\n",
    "        q3 = df.quantile(0.75)\n",
    "        col = df.columns\n",
    "        del_col = ['id','formation_energy_ev_natom','bandgap_energy_ev']\n",
    "        col = [w for w in col if w not in del_col]\n",
    "        \n",
    "        for c in col:\n",
    "            df['mean_'+c] = (df[c] > dmean[c]).astype(np.uint8)\n",
    "            df['median_'+c] = (df[c] > dmedian[c]).astype(np.uint8)\n",
    "            #df['q0_1_'+c] = (df[c] < q0_1[c]).astype(np.uint8)\n",
    "            #df['q0_99_'+c] = (df[c] > q0_99[c]).astype(np.uint8)\n",
    "            df['q1_'+c] = (df[c] < q1[c]).astype(np.uint8)\n",
    "            df['q3_'+c] = (df[c] > q3[c]).astype(np.uint8)\n",
    "            \n",
    "        print('Shape',df.shape)\n",
    "'''"
   ]
  },
  {
   "cell_type": "code",
   "execution_count": 7,
   "metadata": {},
   "outputs": [],
   "source": [
    "vol(train_data)\n",
    "vol(test)"
   ]
  },
  {
   "cell_type": "code",
   "execution_count": 8,
   "metadata": {},
   "outputs": [],
   "source": [
    "#mean_median_feature(train_data)\n",
    "#mean_median_feature(test) "
   ]
  },
  {
   "cell_type": "code",
   "execution_count": 9,
   "metadata": {},
   "outputs": [],
   "source": [
    "# Atomic density\n",
    "train_data['density'] = train_data['number_of_total_atoms'] / train_data['volumn']\n",
    "test['density'] = test['number_of_total_atoms'] / test['volumn']"
   ]
  },
  {
   "cell_type": "code",
   "execution_count": 10,
   "metadata": {},
   "outputs": [],
   "source": [
    "train_data = train_data.drop(['lattice_angle_alpha_degree', 'lattice_angle_beta_degree', 'lattice_angle_gamma_degree'], axis = 1)\n",
    "test = test.drop(['lattice_angle_alpha_degree', 'lattice_angle_beta_degree', 'lattice_angle_gamma_degree'], axis = 1)"
   ]
  },
  {
   "cell_type": "code",
   "execution_count": 16,
   "metadata": {},
   "outputs": [
    {
     "name": "stdout",
     "output_type": "stream",
     "text": [
      "Train on 2160 samples, validate on 240 samples\n",
      "Epoch 1/100\n",
      "2160/2160 [==============================] - 0s 207us/step - loss: 0.1831 - acc: 0.8944 - val_loss: 0.1202 - val_acc: 0.9958\n",
      "Epoch 2/100\n",
      "2160/2160 [==============================] - 0s 74us/step - loss: 0.1114 - acc: 0.9870 - val_loss: 0.1112 - val_acc: 0.9958\n",
      "Epoch 3/100\n",
      "2160/2160 [==============================] - 0s 68us/step - loss: 0.1036 - acc: 0.9870 - val_loss: 0.0909 - val_acc: 0.9958\n",
      "Epoch 4/100\n",
      "2160/2160 [==============================] - 0s 69us/step - loss: 0.0931 - acc: 0.9870 - val_loss: 0.0933 - val_acc: 0.9958\n",
      "Epoch 5/100\n",
      "2160/2160 [==============================] - 0s 71us/step - loss: 0.0883 - acc: 0.9870 - val_loss: 0.0786 - val_acc: 0.9958\n",
      "Epoch 6/100\n",
      "2160/2160 [==============================] - 0s 68us/step - loss: 0.0791 - acc: 0.9870 - val_loss: 0.0719 - val_acc: 0.9958\n",
      "Epoch 7/100\n",
      "2160/2160 [==============================] - 0s 79us/step - loss: 0.0614 - acc: 0.9870 - val_loss: 0.0393 - val_acc: 0.9958\n",
      "Epoch 8/100\n",
      "2160/2160 [==============================] - 0s 78us/step - loss: 0.0483 - acc: 0.9870 - val_loss: 0.0290 - val_acc: 0.9958\n",
      "Epoch 9/100\n",
      "2160/2160 [==============================] - 0s 78us/step - loss: 0.0426 - acc: 0.9870 - val_loss: 0.0540 - val_acc: 0.9958\n",
      "Epoch 10/100\n",
      "2160/2160 [==============================] - 0s 76us/step - loss: 0.0407 - acc: 0.9870 - val_loss: 0.0392 - val_acc: 0.9958\n",
      "Epoch 11/100\n",
      "2160/2160 [==============================] - 0s 74us/step - loss: 0.0355 - acc: 0.9870 - val_loss: 0.0255 - val_acc: 0.9958\n",
      "Epoch 12/100\n",
      "2160/2160 [==============================] - 0s 77us/step - loss: 0.0345 - acc: 0.9870 - val_loss: 0.0258 - val_acc: 0.9958\n",
      "Epoch 13/100\n",
      "2160/2160 [==============================] - 0s 72us/step - loss: 0.0302 - acc: 0.9870 - val_loss: 0.0258 - val_acc: 0.9958\n",
      "Epoch 14/100\n",
      "2160/2160 [==============================] - 0s 74us/step - loss: 0.0224 - acc: 0.9870 - val_loss: 0.0111 - val_acc: 0.9958\n",
      "Epoch 15/100\n",
      "2160/2160 [==============================] - 0s 73us/step - loss: 0.0186 - acc: 0.9870 - val_loss: 0.0111 - val_acc: 0.9958\n",
      "Epoch 16/100\n",
      "2160/2160 [==============================] - 0s 74us/step - loss: 0.0193 - acc: 0.9870 - val_loss: 0.0113 - val_acc: 0.9958\n",
      "Epoch 17/100\n",
      "2160/2160 [==============================] - 0s 70us/step - loss: 0.0172 - acc: 0.9870 - val_loss: 0.0093 - val_acc: 0.9958\n",
      "Epoch 18/100\n",
      "2160/2160 [==============================] - 0s 77us/step - loss: 0.0152 - acc: 0.9870 - val_loss: 0.0119 - val_acc: 0.9958\n",
      "Epoch 19/100\n",
      "2160/2160 [==============================] - 0s 79us/step - loss: 0.0163 - acc: 0.9870 - val_loss: 0.0114 - val_acc: 0.9958\n",
      "Epoch 20/100\n",
      "2160/2160 [==============================] - 0s 72us/step - loss: 0.0151 - acc: 0.9870 - val_loss: 0.0103 - val_acc: 0.9958\n",
      "Epoch 21/100\n",
      "2160/2160 [==============================] - 0s 73us/step - loss: 0.0148 - acc: 0.9870 - val_loss: 0.0125 - val_acc: 0.9958\n",
      "Epoch 22/100\n",
      "2160/2160 [==============================] - 0s 77us/step - loss: 0.0141 - acc: 0.9875 - val_loss: 0.0088 - val_acc: 0.9958\n",
      "Epoch 23/100\n",
      "2160/2160 [==============================] - 0s 80us/step - loss: 0.0146 - acc: 0.9870 - val_loss: 0.0085 - val_acc: 0.9958\n",
      "Epoch 24/100\n",
      "2160/2160 [==============================] - 0s 71us/step - loss: 0.0145 - acc: 0.9875 - val_loss: 0.0102 - val_acc: 0.9958\n",
      "Epoch 25/100\n",
      "2160/2160 [==============================] - 0s 79us/step - loss: 0.0144 - acc: 0.9866 - val_loss: 0.0138 - val_acc: 0.9958\n",
      "Epoch 26/100\n",
      "2160/2160 [==============================] - 0s 75us/step - loss: 0.0132 - acc: 0.9870 - val_loss: 0.0083 - val_acc: 0.9958\n",
      "Epoch 27/100\n",
      "2160/2160 [==============================] - 0s 80us/step - loss: 0.0131 - acc: 0.9870 - val_loss: 0.0076 - val_acc: 0.9958\n",
      "Epoch 28/100\n",
      "2160/2160 [==============================] - 0s 75us/step - loss: 0.0120 - acc: 0.9870 - val_loss: 0.0099 - val_acc: 0.9958\n",
      "Epoch 29/100\n",
      "2160/2160 [==============================] - 0s 83us/step - loss: 0.0117 - acc: 0.9861 - val_loss: 0.0083 - val_acc: 0.9917\n",
      "Epoch 30/100\n",
      "2160/2160 [==============================] - 0s 81us/step - loss: 0.0133 - acc: 0.9866 - val_loss: 0.0077 - val_acc: 0.9958\n",
      "Epoch 31/100\n",
      "2160/2160 [==============================] - 0s 79us/step - loss: 0.0122 - acc: 0.9884 - val_loss: 0.0085 - val_acc: 0.9917\n",
      "Epoch 32/100\n",
      "2160/2160 [==============================] - 0s 67us/step - loss: 0.0122 - acc: 0.9861 - val_loss: 0.0094 - val_acc: 0.9958\n",
      "Epoch 33/100\n",
      "2160/2160 [==============================] - 0s 79us/step - loss: 0.0121 - acc: 0.9870 - val_loss: 0.0103 - val_acc: 0.9958\n",
      "Epoch 34/100\n",
      "2160/2160 [==============================] - 0s 76us/step - loss: 0.0129 - acc: 0.9875 - val_loss: 0.0081 - val_acc: 0.9958\n",
      "Epoch 35/100\n",
      "2160/2160 [==============================] - 0s 76us/step - loss: 0.0109 - acc: 0.9880 - val_loss: 0.0082 - val_acc: 0.9917\n",
      "Epoch 36/100\n",
      "2160/2160 [==============================] - 0s 74us/step - loss: 0.0123 - acc: 0.9870 - val_loss: 0.0086 - val_acc: 0.9958\n",
      "Epoch 37/100\n",
      "2160/2160 [==============================] - 0s 78us/step - loss: 0.0114 - acc: 0.9870 - val_loss: 0.0089 - val_acc: 0.9958\n",
      "Epoch 38/100\n",
      "2160/2160 [==============================] - 0s 76us/step - loss: 0.0111 - acc: 0.9870 - val_loss: 0.0077 - val_acc: 0.9958\n",
      "Epoch 39/100\n",
      "2160/2160 [==============================] - 0s 73us/step - loss: 0.0106 - acc: 0.9861 - val_loss: 0.0098 - val_acc: 0.9958\n",
      "Epoch 40/100\n",
      "2160/2160 [==============================] - 0s 81us/step - loss: 0.0111 - acc: 0.9870 - val_loss: 0.0078 - val_acc: 0.9958\n",
      "Epoch 41/100\n",
      "2160/2160 [==============================] - 0s 81us/step - loss: 0.0109 - acc: 0.9861 - val_loss: 0.0073 - val_acc: 0.9958\n",
      "Epoch 42/100\n",
      "2160/2160 [==============================] - 0s 74us/step - loss: 0.0114 - acc: 0.9870 - val_loss: 0.0098 - val_acc: 0.9958\n",
      "Epoch 43/100\n",
      "2160/2160 [==============================] - 0s 74us/step - loss: 0.0117 - acc: 0.9870 - val_loss: 0.0081 - val_acc: 0.9958\n",
      "Epoch 44/100\n",
      "2160/2160 [==============================] - 0s 76us/step - loss: 0.0105 - acc: 0.9870 - val_loss: 0.0066 - val_acc: 0.9958\n",
      "Epoch 45/100\n",
      "2160/2160 [==============================] - 0s 67us/step - loss: 0.0103 - acc: 0.9875 - val_loss: 0.0068 - val_acc: 0.9958\n",
      "Epoch 46/100\n",
      "2160/2160 [==============================] - 0s 69us/step - loss: 0.0102 - acc: 0.9880 - val_loss: 0.0075 - val_acc: 0.9958\n",
      "Epoch 47/100\n",
      "2160/2160 [==============================] - 0s 73us/step - loss: 0.0106 - acc: 0.9861 - val_loss: 0.0077 - val_acc: 0.9958\n",
      "Epoch 48/100\n",
      "2160/2160 [==============================] - 0s 74us/step - loss: 0.0105 - acc: 0.9875 - val_loss: 0.0091 - val_acc: 0.9958\n",
      "Epoch 49/100\n",
      "2160/2160 [==============================] - 0s 77us/step - loss: 0.0111 - acc: 0.9856 - val_loss: 0.0089 - val_acc: 0.9917\n",
      "Epoch 50/100\n",
      "2160/2160 [==============================] - 0s 75us/step - loss: 0.0107 - acc: 0.9880 - val_loss: 0.0073 - val_acc: 0.9958\n",
      "Epoch 51/100\n",
      "2160/2160 [==============================] - 0s 80us/step - loss: 0.0105 - acc: 0.9870 - val_loss: 0.0074 - val_acc: 0.9958\n",
      "Epoch 52/100\n",
      "2160/2160 [==============================] - 0s 74us/step - loss: 0.0103 - acc: 0.9861 - val_loss: 0.0075 - val_acc: 0.9958\n",
      "Epoch 53/100\n",
      "2160/2160 [==============================] - 0s 74us/step - loss: 0.0104 - acc: 0.9870 - val_loss: 0.0092 - val_acc: 0.9958\n",
      "Epoch 54/100\n",
      "2160/2160 [==============================] - 0s 82us/step - loss: 0.0099 - acc: 0.9856 - val_loss: 0.0081 - val_acc: 0.9958\n",
      "Epoch 55/100\n",
      "2160/2160 [==============================] - 0s 74us/step - loss: 0.0096 - acc: 0.9856 - val_loss: 0.0077 - val_acc: 0.9958\n",
      "Epoch 56/100\n",
      "2160/2160 [==============================] - 0s 71us/step - loss: 0.0098 - acc: 0.9870 - val_loss: 0.0067 - val_acc: 0.9958\n",
      "Epoch 57/100\n",
      "2160/2160 [==============================] - 0s 75us/step - loss: 0.0100 - acc: 0.9861 - val_loss: 0.0101 - val_acc: 0.9958\n",
      "Epoch 58/100\n",
      "2160/2160 [==============================] - 0s 76us/step - loss: 0.0095 - acc: 0.9875 - val_loss: 0.0065 - val_acc: 0.9958\n",
      "Epoch 59/100\n",
      "2160/2160 [==============================] - 0s 71us/step - loss: 0.0096 - acc: 0.9875 - val_loss: 0.0073 - val_acc: 0.9958\n",
      "Epoch 60/100\n",
      "2160/2160 [==============================] - 0s 78us/step - loss: 0.0111 - acc: 0.9870 - val_loss: 0.0068 - val_acc: 0.9958\n",
      "Epoch 61/100\n",
      "2160/2160 [==============================] - 0s 69us/step - loss: 0.0100 - acc: 0.9866 - val_loss: 0.0070 - val_acc: 0.9958\n",
      "Epoch 62/100\n",
      "2160/2160 [==============================] - 0s 72us/step - loss: 0.0100 - acc: 0.9856 - val_loss: 0.0073 - val_acc: 0.9958\n",
      "Epoch 63/100\n",
      "2160/2160 [==============================] - 0s 72us/step - loss: 0.0091 - acc: 0.9861 - val_loss: 0.0077 - val_acc: 0.9958\n",
      "Epoch 64/100\n",
      "2160/2160 [==============================] - 0s 79us/step - loss: 0.0092 - acc: 0.9875 - val_loss: 0.0064 - val_acc: 0.9958\n",
      "Epoch 65/100\n",
      "2160/2160 [==============================] - 0s 75us/step - loss: 0.0092 - acc: 0.9875 - val_loss: 0.0065 - val_acc: 0.9958\n",
      "Epoch 66/100\n",
      "2160/2160 [==============================] - 0s 72us/step - loss: 0.0089 - acc: 0.9856 - val_loss: 0.0071 - val_acc: 0.9958\n",
      "Epoch 67/100\n",
      "2160/2160 [==============================] - 0s 70us/step - loss: 0.0096 - acc: 0.9866 - val_loss: 0.0088 - val_acc: 0.9958\n",
      "Epoch 68/100\n",
      "2160/2160 [==============================] - 0s 74us/step - loss: 0.0094 - acc: 0.9870 - val_loss: 0.0093 - val_acc: 0.9958\n",
      "Epoch 69/100\n",
      "2160/2160 [==============================] - 0s 67us/step - loss: 0.0098 - acc: 0.9870 - val_loss: 0.0072 - val_acc: 0.9958\n",
      "Epoch 70/100\n",
      "2160/2160 [==============================] - 0s 64us/step - loss: 0.0107 - acc: 0.9870 - val_loss: 0.0093 - val_acc: 0.9958\n",
      "Epoch 71/100\n",
      "2160/2160 [==============================] - 0s 65us/step - loss: 0.0105 - acc: 0.9870 - val_loss: 0.0073 - val_acc: 0.9958\n",
      "Epoch 72/100\n",
      "2160/2160 [==============================] - 0s 73us/step - loss: 0.0095 - acc: 0.9861 - val_loss: 0.0068 - val_acc: 0.9958\n",
      "Epoch 73/100\n",
      "2160/2160 [==============================] - 0s 66us/step - loss: 0.0087 - acc: 0.9866 - val_loss: 0.0082 - val_acc: 0.9958\n",
      "Epoch 74/100\n",
      "2160/2160 [==============================] - 0s 66us/step - loss: 0.0089 - acc: 0.9861 - val_loss: 0.0065 - val_acc: 0.9917\n",
      "Epoch 75/100\n",
      "2160/2160 [==============================] - 0s 63us/step - loss: 0.0090 - acc: 0.9870 - val_loss: 0.0061 - val_acc: 0.9958\n",
      "Epoch 76/100\n",
      "2160/2160 [==============================] - 0s 77us/step - loss: 0.0089 - acc: 0.9870 - val_loss: 0.0073 - val_acc: 0.9917\n",
      "Epoch 77/100\n",
      "2160/2160 [==============================] - 0s 74us/step - loss: 0.0086 - acc: 0.9866 - val_loss: 0.0062 - val_acc: 0.9958\n",
      "Epoch 78/100\n",
      "2160/2160 [==============================] - 0s 71us/step - loss: 0.0085 - acc: 0.9870 - val_loss: 0.0097 - val_acc: 0.9958\n",
      "Epoch 79/100\n",
      "2160/2160 [==============================] - 0s 70us/step - loss: 0.0087 - acc: 0.9875 - val_loss: 0.0104 - val_acc: 0.9958\n",
      "Epoch 80/100\n",
      "2160/2160 [==============================] - 0s 80us/step - loss: 0.0097 - acc: 0.9861 - val_loss: 0.0064 - val_acc: 0.9958\n",
      "Epoch 81/100\n",
      "2160/2160 [==============================] - 0s 77us/step - loss: 0.0085 - acc: 0.9866 - val_loss: 0.0071 - val_acc: 0.9958\n",
      "Epoch 82/100\n",
      "2160/2160 [==============================] - 0s 69us/step - loss: 0.0087 - acc: 0.9884 - val_loss: 0.0071 - val_acc: 0.9958\n",
      "Epoch 83/100\n",
      "2160/2160 [==============================] - 0s 68us/step - loss: 0.0093 - acc: 0.9870 - val_loss: 0.0074 - val_acc: 0.9958\n",
      "Epoch 84/100\n",
      "2160/2160 [==============================] - 0s 72us/step - loss: 0.0088 - acc: 0.9861 - val_loss: 0.0072 - val_acc: 0.9958\n",
      "Epoch 85/100\n",
      "2160/2160 [==============================] - 0s 69us/step - loss: 0.0093 - acc: 0.9870 - val_loss: 0.0081 - val_acc: 0.9958\n",
      "Epoch 86/100\n",
      "2160/2160 [==============================] - 0s 69us/step - loss: 0.0089 - acc: 0.9880 - val_loss: 0.0080 - val_acc: 0.9958\n",
      "Epoch 87/100\n",
      "2160/2160 [==============================] - 0s 61us/step - loss: 0.0097 - acc: 0.9870 - val_loss: 0.0085 - val_acc: 0.9958\n",
      "Epoch 88/100\n",
      "2160/2160 [==============================] - 0s 71us/step - loss: 0.0089 - acc: 0.9875 - val_loss: 0.0074 - val_acc: 0.9958\n",
      "Epoch 89/100\n",
      "2160/2160 [==============================] - 0s 70us/step - loss: 0.0091 - acc: 0.9875 - val_loss: 0.0084 - val_acc: 0.9958\n",
      "Epoch 90/100\n",
      "2160/2160 [==============================] - 0s 67us/step - loss: 0.0090 - acc: 0.9875 - val_loss: 0.0123 - val_acc: 0.9958\n",
      "Epoch 91/100\n",
      "2160/2160 [==============================] - 0s 68us/step - loss: 0.0084 - acc: 0.9875 - val_loss: 0.0064 - val_acc: 0.9833\n",
      "Epoch 92/100\n",
      "2160/2160 [==============================] - 0s 68us/step - loss: 0.0084 - acc: 0.9838 - val_loss: 0.0069 - val_acc: 0.9958\n",
      "Epoch 93/100\n",
      "2160/2160 [==============================] - 0s 65us/step - loss: 0.0089 - acc: 0.9870 - val_loss: 0.0077 - val_acc: 0.9958\n",
      "Epoch 94/100\n",
      "2160/2160 [==============================] - 0s 79us/step - loss: 0.0087 - acc: 0.9847 - val_loss: 0.0074 - val_acc: 0.9958\n",
      "Epoch 95/100\n",
      "2160/2160 [==============================] - 0s 73us/step - loss: 0.0086 - acc: 0.9852 - val_loss: 0.0070 - val_acc: 0.9958\n",
      "Epoch 96/100\n",
      "2160/2160 [==============================] - 0s 69us/step - loss: 0.0084 - acc: 0.9870 - val_loss: 0.0070 - val_acc: 0.9958\n",
      "Epoch 97/100\n",
      "2160/2160 [==============================] - 0s 63us/step - loss: 0.0085 - acc: 0.9870 - val_loss: 0.0060 - val_acc: 0.9958\n",
      "Epoch 98/100\n",
      "2160/2160 [==============================] - 0s 70us/step - loss: 0.0089 - acc: 0.9870 - val_loss: 0.0069 - val_acc: 0.9917\n",
      "Epoch 99/100\n",
      "2160/2160 [==============================] - 0s 69us/step - loss: 0.0083 - acc: 0.9861 - val_loss: 0.0063 - val_acc: 0.9958\n",
      "Epoch 100/100\n",
      "2160/2160 [==============================] - 0s 71us/step - loss: 0.0077 - acc: 0.9866 - val_loss: 0.0054 - val_acc: 0.9958\n"
     ]
    }
   ],
   "source": [
    "model = Sequential()\n",
    "#1 and hidden layer\n",
    "model.add(Dense(units = 1024, activation = 'relu', kernel_initializer = 'glorot_uniform',input_dim = train_data.shape[1]))\n",
    "model.add(Dropout(0.1))\n",
    "model.add(Dense(units = 512, activation = 'relu', kernel_initializer = 'uniform'))\n",
    "model.add(Dropout(0.1))\n",
    "model.add(Dense(units = 256, activation = 'relu', kernel_initializer = 'uniform'))\n",
    "model.add(Dropout(0.1))\n",
    "model.add(Dense(units = 128, activation = 'relu', kernel_initializer = 'uniform'))\n",
    "model.add(Dropout(0.1))\n",
    "model.add(Dense(units = 64, activation = 'relu', kernel_initializer = 'uniform'))\n",
    "model.add(Dropout(0.1))\n",
    "model.add(Dense(units = 2, activation = 'relu', kernel_initializer = 'uniform'))\n",
    "\n",
    "#compile ANN\n",
    "model.compile(optimizer = 'adam', loss = 'msle', metrics =['accuracy'])\n",
    "#fit\n",
    "history = model.fit(train_data, train_labels, batch_size = 100, epochs = 100, validation_split=0.1)"
   ]
  },
  {
   "cell_type": "code",
   "execution_count": 17,
   "metadata": {},
   "outputs": [
    {
     "data": {
      "image/png": "[encoded data removed]",
      "text/plain": [
       "<Figure size 432x288 with 1 Axes>"
      ]
     },
     "metadata": {},
     "output_type": "display_data"
    }
   ],
   "source": [
    "plt.plot(history.history['acc'])\n",
    "plt.plot(history.history['val_acc'])\n",
    "plt.title('model accuracy')\n",
    "plt.ylabel('accuracy')\n",
    "plt.xlabel('epoch')\n",
    "plt.legend(['train', 'test'], loc='upper left')\n",
    "plt.show()"
   ]
  },
  {
   "cell_type": "code",
   "execution_count": 18,
   "metadata": {},
   "outputs": [
    {
     "data": {
      "image/png": "[encoded data removed]",
      "text/plain": [
       "<Figure size 432x288 with 1 Axes>"
      ]
     },
     "metadata": {},
     "output_type": "display_data"
    }
   ],
   "source": [
    "plt.plot(history.history['loss'])\n",
    "plt.plot(history.history['val_loss'])\n",
    "plt.title('model loss')\n",
    "plt.ylabel('loss')\n",
    "plt.xlabel('epoch')\n",
    "plt.legend(['train', 'validation'], loc='upper left')\n",
    "plt.show()"
   ]
  },
  {
   "cell_type": "code",
   "execution_count": 19,
   "metadata": {},
   "outputs": [],
   "source": [
    "def rmsle(y_true,y_pred):\n",
    "    return np.sqrt(np.square(np.log(y_pred + 1) - np.log(y_true + 1)).mean())"
   ]
  },
  {
   "cell_type": "code",
   "execution_count": 20,
   "metadata": {},
   "outputs": [
    {
     "data": {
      "text/plain": [
       "formation_energy_ev_natom    0.054654\n",
       "bandgap_energy_ev            0.094746\n",
       "dtype: float64"
      ]
     },
     "execution_count": 20,
     "metadata": {},
     "output_type": "execute_result"
    }
   ],
   "source": [
    "rmsle(train_labels, model.predict(train_data))"
   ]
  },
  {
   "cell_type": "code",
   "execution_count": 27,
   "metadata": {},
   "outputs": [
    {
     "data": {
      "text/plain": [
       "array([[0.21388283, 1.7098289 ],\n",
       "       [0.11034668, 3.7322288 ],\n",
       "       [0.11845667, 3.5372052 ],\n",
       "       ...,\n",
       "       [0.17630878, 0.7856753 ],\n",
       "       [0.1999258 , 2.2318292 ],\n",
       "       [0.21805872, 2.152522  ]], dtype=float32)"
      ]
     },
     "execution_count": 27,
     "metadata": {},
     "output_type": "execute_result"
    }
   ],
   "source": [
    "test_pred = model.predict(test)\n",
    "test_pred"
   ]
  },
  {
   "cell_type": "code",
   "execution_count": 28,
   "metadata": {},
   "outputs": [],
   "source": [
    "test_id = pd.read_csv('../data/official_test.csv')\n",
    "\n",
    "submit = pd.DataFrame({'id':test_id['id'],'formation_energy_ev_natom':test_pred[:,0],'bandgap_energy_ev':test_pred[:,1]})\n",
    "submit.to_csv('submission.csv',index=False)"
   ]
  },
  {
   "cell_type": "code",
   "execution_count": 29,
   "metadata": {},
   "outputs": [
    {
     "data": {
      "text/html": [
       "<div>\n",
       "<style scoped>\n",
       "    .dataframe tbody tr th:only-of-type {\n",
       "        vertical-align: middle;\n",
       "    }\n",
       "\n",
       "    .dataframe tbody tr th {\n",
       "        vertical-align: top;\n",
       "    }\n",
       "\n",
       "    .dataframe thead th {\n",
       "        text-align: right;\n",
       "    }\n",
       "</style>\n",
       "<table border=\"1\" class=\"dataframe\">\n",
       "  <thead>\n",
       "    <tr style=\"text-align: right;\">\n",
       "      <th></th>\n",
       "      <th>bandgap_energy_ev</th>\n",
       "      <th>formation_energy_ev_natom</th>\n",
       "      <th>id</th>\n",
       "    </tr>\n",
       "  </thead>\n",
       "  <tbody>\n",
       "    <tr>\n",
       "      <th>0</th>\n",
       "      <td>1.709829</td>\n",
       "      <td>0.213883</td>\n",
       "      <td>1</td>\n",
       "    </tr>\n",
       "    <tr>\n",
       "      <th>1</th>\n",
       "      <td>3.732229</td>\n",
       "      <td>0.110347</td>\n",
       "      <td>2</td>\n",
       "    </tr>\n",
       "    <tr>\n",
       "      <th>2</th>\n",
       "      <td>3.537205</td>\n",
       "      <td>0.118457</td>\n",
       "      <td>3</td>\n",
       "    </tr>\n",
       "    <tr>\n",
       "      <th>3</th>\n",
       "      <td>3.188421</td>\n",
       "      <td>0.101721</td>\n",
       "      <td>4</td>\n",
       "    </tr>\n",
       "    <tr>\n",
       "      <th>4</th>\n",
       "      <td>1.735381</td>\n",
       "      <td>0.165086</td>\n",
       "      <td>5</td>\n",
       "    </tr>\n",
       "  </tbody>\n",
       "</table>\n",
       "</div>"
      ],
      "text/plain": [
       "   bandgap_energy_ev  formation_energy_ev_natom  id\n",
       "0           1.709829                   0.213883   1\n",
       "1           3.732229                   0.110347   2\n",
       "2           3.537205                   0.118457   3\n",
       "3           3.188421                   0.101721   4\n",
       "4           1.735381                   0.165086   5"
      ]
     },
     "execution_count": 29,
     "metadata": {},
     "output_type": "execute_result"
    }
   ],
   "source": [
    "submit.head()"
   ]
  },
  {
   "cell_type": "code",
   "execution_count": 24,
   "metadata": {},
   "outputs": [],
   "source": [
    "from keras.utils import plot_model\n",
    "plot_model(model, to_file='model.png', show_shapes=True)"
   ]
  },
  {
   "cell_type": "code",
   "execution_count": 25,
   "metadata": {},
   "outputs": [
    {
     "name": "stdout",
     "output_type": "stream",
     "text": [
      "_________________________________________________________________\n",
      "Layer (type)                 Output Shape              Param #   \n",
      "=================================================================\n",
      "dense_8 (Dense)              (None, 1024)              14336     \n",
      "_________________________________________________________________\n",
      "dropout_7 (Dropout)          (None, 1024)              0         \n",
      "_________________________________________________________________\n",
      "dense_9 (Dense)              (None, 512)               524800    \n",
      "_________________________________________________________________\n",
      "dropout_8 (Dropout)          (None, 512)               0         \n",
      "_________________________________________________________________\n",
      "dense_10 (Dense)             (None, 256)               131328    \n",
      "_________________________________________________________________\n",
      "dropout_9 (Dropout)          (None, 256)               0         \n",
      "_________________________________________________________________\n",
      "dense_11 (Dense)             (None, 128)               32896     \n",
      "_________________________________________________________________\n",
      "dropout_10 (Dropout)         (None, 128)               0         \n",
      "_________________________________________________________________\n",
      "dense_12 (Dense)             (None, 64)                8256      \n",
      "_________________________________________________________________\n",
      "dropout_11 (Dropout)         (None, 64)                0         \n",
      "_________________________________________________________________\n",
      "dense_13 (Dense)             (None, 2)                 130       \n",
      "=================================================================\n",
      "Total params: 711,746\n",
      "Trainable params: 711,746\n",
      "Non-trainable params: 0\n",
      "_________________________________________________________________\n"
     ]
    }
   ],
   "source": [
    "model.summary()"
   ]
  },
  {
   "cell_type": "code",
   "execution_count": 26,
   "metadata": {},
   "outputs": [
    {
     "data": {
      "text/plain": [
       "[{'class_name': 'Dense',\n",
       "  'config': {'activation': 'relu',\n",
       "   'activity_regularizer': None,\n",
       "   'batch_input_shape': (None, 13),\n",
       "   'bias_constraint': None,\n",
       "   'bias_initializer': {'class_name': 'Zeros', 'config': {}},\n",
       "   'bias_regularizer': None,\n",
       "   'dtype': 'float32',\n",
       "   'kernel_constraint': None,\n",
       "   'kernel_initializer': {'class_name': 'VarianceScaling',\n",
       "    'config': {'distribution': 'uniform',\n",
       "     'mode': 'fan_avg',\n",
       "     'scale': 1.0,\n",
       "     'seed': None}},\n",
       "   'kernel_regularizer': None,\n",
       "   'name': 'dense_8',\n",
       "   'trainable': True,\n",
       "   'units': 1024,\n",
       "   'use_bias': True}},\n",
       " {'class_name': 'Dropout',\n",
       "  'config': {'name': 'dropout_7',\n",
       "   'noise_shape': None,\n",
       "   'rate': 0.1,\n",
       "   'seed': None,\n",
       "   'trainable': True}},\n",
       " {'class_name': 'Dense',\n",
       "  'config': {'activation': 'relu',\n",
       "   'activity_regularizer': None,\n",
       "   'bias_constraint': None,\n",
       "   'bias_initializer': {'class_name': 'Zeros', 'config': {}},\n",
       "   'bias_regularizer': None,\n",
       "   'kernel_constraint': None,\n",
       "   'kernel_initializer': {'class_name': 'RandomUniform',\n",
       "    'config': {'maxval': 0.05, 'minval': -0.05, 'seed': None}},\n",
       "   'kernel_regularizer': None,\n",
       "   'name': 'dense_9',\n",
       "   'trainable': True,\n",
       "   'units': 512,\n",
       "   'use_bias': True}},\n",
       " {'class_name': 'Dropout',\n",
       "  'config': {'name': 'dropout_8',\n",
       "   'noise_shape': None,\n",
       "   'rate': 0.1,\n",
       "   'seed': None,\n",
       "   'trainable': True}},\n",
       " {'class_name': 'Dense',\n",
       "  'config': {'activation': 'relu',\n",
       "   'activity_regularizer': None,\n",
       "   'bias_constraint': None,\n",
       "   'bias_initializer': {'class_name': 'Zeros', 'config': {}},\n",
       "   'bias_regularizer': None,\n",
       "   'kernel_constraint': None,\n",
       "   'kernel_initializer': {'class_name': 'RandomUniform',\n",
       "    'config': {'maxval': 0.05, 'minval': -0.05, 'seed': None}},\n",
       "   'kernel_regularizer': None,\n",
       "   'name': 'dense_10',\n",
       "   'trainable': True,\n",
       "   'units': 256,\n",
       "   'use_bias': True}},\n",
       " {'class_name': 'Dropout',\n",
       "  'config': {'name': 'dropout_9',\n",
       "   'noise_shape': None,\n",
       "   'rate': 0.1,\n",
       "   'seed': None,\n",
       "   'trainable': True}},\n",
       " {'class_name': 'Dense',\n",
       "  'config': {'activation': 'relu',\n",
       "   'activity_regularizer': None,\n",
       "   'bias_constraint': None,\n",
       "   'bias_initializer': {'class_name': 'Zeros', 'config': {}},\n",
       "   'bias_regularizer': None,\n",
       "   'kernel_constraint': None,\n",
       "   'kernel_initializer': {'class_name': 'RandomUniform',\n",
       "    'config': {'maxval': 0.05, 'minval': -0.05, 'seed': None}},\n",
       "   'kernel_regularizer': None,\n",
       "   'name': 'dense_11',\n",
       "   'trainable': True,\n",
       "   'units': 128,\n",
       "   'use_bias': True}},\n",
       " {'class_name': 'Dropout',\n",
       "  'config': {'name': 'dropout_10',\n",
       "   'noise_shape': None,\n",
       "   'rate': 0.1,\n",
       "   'seed': None,\n",
       "   'trainable': True}},\n",
       " {'class_name': 'Dense',\n",
       "  'config': {'activation': 'relu',\n",
       "   'activity_regularizer': None,\n",
       "   'bias_constraint': None,\n",
       "   'bias_initializer': {'class_name': 'Zeros', 'config': {}},\n",
       "   'bias_regularizer': None,\n",
       "   'kernel_constraint': None,\n",
       "   'kernel_initializer': {'class_name': 'RandomUniform',\n",
       "    'config': {'maxval': 0.05, 'minval': -0.05, 'seed': None}},\n",
       "   'kernel_regularizer': None,\n",
       "   'name': 'dense_12',\n",
       "   'trainable': True,\n",
       "   'units': 64,\n",
       "   'use_bias': True}},\n",
       " {'class_name': 'Dropout',\n",
       "  'config': {'name': 'dropout_11',\n",
       "   'noise_shape': None,\n",
       "   'rate': 0.1,\n",
       "   'seed': None,\n",
       "   'trainable': True}},\n",
       " {'class_name': 'Dense',\n",
       "  'config': {'activation': 'relu',\n",
       "   'activity_regularizer': None,\n",
       "   'bias_constraint': None,\n",
       "   'bias_initializer': {'class_name': 'Zeros', 'config': {}},\n",
       "   'bias_regularizer': None,\n",
       "   'kernel_constraint': None,\n",
       "   'kernel_initializer': {'class_name': 'RandomUniform',\n",
       "    'config': {'maxval': 0.05, 'minval': -0.05, 'seed': None}},\n",
       "   'kernel_regularizer': None,\n",
       "   'name': 'dense_13',\n",
       "   'trainable': True,\n",
       "   'units': 2,\n",
       "   'use_bias': True}}]"
      ]
     },
     "execution_count": 26,
     "metadata": {},
     "output_type": "execute_result"
    }
   ],
   "source": [
    "model.get_config()"
   ]
  },
  {
   "cell_type": "code",
   "execution_count": null,
   "metadata": {},
   "outputs": [],
   "source": []
  }
 ],
 "metadata": {
  "kernelspec": {
   "display_name": "Python 3",
   "language": "python",
   "name": "python3"
  },
  "language_info": {
   "codemirror_mode": {
    "name": "ipython",
    "version": 3
   },
   "file_extension": ".py",
   "mimetype": "text/x-python",
   "name": "python",
   "nbconvert_exporter": "python",
   "pygments_lexer": "ipython3",
   "version": "3.6.4"
  }
 },
 "nbformat": 4,
 "nbformat_minor": 2
}
