{
 "cells": [
  {
   "cell_type": "markdown",
   "metadata": {},
   "source": [
    "# Import"
   ]
  },
  {
   "cell_type": "code",
   "execution_count": 5,
   "metadata": {},
   "outputs": [],
   "source": [
    "import pickle\n",
    "import numpy as np\n",
    "import pandas as pd\n",
    "import seaborn as sbn\n",
    "import matplotlib.pyplot as plt\n",
    "from sklearn import preprocessing\n",
    "from sklearn.pipeline import make_pipeline\n",
    "from sklearn.model_selection import GridSearchCV\n",
    "from sklearn.model_selection import cross_val_predict, train_test_split\n",
    "from sklearn.metrics import r2_score, mean_squared_error"
   ]
  },
  {
   "cell_type": "markdown",
   "metadata": {},
   "source": [
    "# Load Data"
   ]
  },
  {
   "cell_type": "code",
   "execution_count": 6,
   "metadata": {},
   "outputs": [],
   "source": [
    "train_data = pickle.load(open('../data/tree_new_train.pkl','rb'))\n",
    "valid_data = pickle.load(open('../data/tree_new_test.pkl','rb'))"
   ]
  },
  {
   "cell_type": "markdown",
   "metadata": {},
   "source": [
    "# Data Statistics"
   ]
  },
  {
   "cell_type": "code",
   "execution_count": 7,
   "metadata": {},
   "outputs": [],
   "source": [
    "unique_values_distribution = []\n",
    "def unique_col_values(df):\n",
    "    for column in df:\n",
    "        unique_values_distribution.append ((df[column].name, len(df[column].unique()), df[column].dtype ))\n",
    "        \n",
    "unique_col_values(train_data)\n",
    "\n",
    "columns_heading  = ['Header Name','Unique Count','Data Type']\n",
    "\n",
    "data_distribution = pd.DataFrame.from_records(unique_values_distribution, columns=columns_heading)"
   ]
  },
  {
   "cell_type": "code",
   "execution_count": 8,
   "metadata": {},
   "outputs": [
    {
     "data": {
      "text/html": [
       "<div>\n",
       "<style scoped>\n",
       "    .dataframe tbody tr th:only-of-type {\n",
       "        vertical-align: middle;\n",
       "    }\n",
       "\n",
       "    .dataframe tbody tr th {\n",
       "        vertical-align: top;\n",
       "    }\n",
       "\n",
       "    .dataframe thead th {\n",
       "        text-align: right;\n",
       "    }\n",
       "</style>\n",
       "<table border=\"1\" class=\"dataframe\">\n",
       "  <thead>\n",
       "    <tr style=\"text-align: right;\">\n",
       "      <th></th>\n",
       "      <th>Header Name</th>\n",
       "      <th>Unique Count</th>\n",
       "      <th>Data Type</th>\n",
       "    </tr>\n",
       "  </thead>\n",
       "  <tbody>\n",
       "    <tr>\n",
       "      <th>0</th>\n",
       "      <td>id</td>\n",
       "      <td>2400</td>\n",
       "      <td>int64</td>\n",
       "    </tr>\n",
       "    <tr>\n",
       "      <th>1</th>\n",
       "      <td>spacegroup</td>\n",
       "      <td>6</td>\n",
       "      <td>int64</td>\n",
       "    </tr>\n",
       "    <tr>\n",
       "      <th>2</th>\n",
       "      <td>number_of_total_atoms</td>\n",
       "      <td>6</td>\n",
       "      <td>float64</td>\n",
       "    </tr>\n",
       "    <tr>\n",
       "      <th>3</th>\n",
       "      <td>percent_atom_al</td>\n",
       "      <td>42</td>\n",
       "      <td>float64</td>\n",
       "    </tr>\n",
       "    <tr>\n",
       "      <th>4</th>\n",
       "      <td>percent_atom_ga</td>\n",
       "      <td>42</td>\n",
       "      <td>float64</td>\n",
       "    </tr>\n",
       "    <tr>\n",
       "      <th>5</th>\n",
       "      <td>percent_atom_in</td>\n",
       "      <td>42</td>\n",
       "      <td>float64</td>\n",
       "    </tr>\n",
       "    <tr>\n",
       "      <th>6</th>\n",
       "      <td>lattice_vector_1_ang</td>\n",
       "      <td>1288</td>\n",
       "      <td>float64</td>\n",
       "    </tr>\n",
       "    <tr>\n",
       "      <th>7</th>\n",
       "      <td>lattice_vector_2_ang</td>\n",
       "      <td>1216</td>\n",
       "      <td>float64</td>\n",
       "    </tr>\n",
       "    <tr>\n",
       "      <th>8</th>\n",
       "      <td>lattice_vector_3_ang</td>\n",
       "      <td>1210</td>\n",
       "      <td>float64</td>\n",
       "    </tr>\n",
       "    <tr>\n",
       "      <th>9</th>\n",
       "      <td>lattice_angle_alpha_degree</td>\n",
       "      <td>457</td>\n",
       "      <td>float64</td>\n",
       "    </tr>\n",
       "    <tr>\n",
       "      <th>10</th>\n",
       "      <td>lattice_angle_beta_degree</td>\n",
       "      <td>566</td>\n",
       "      <td>float64</td>\n",
       "    </tr>\n",
       "    <tr>\n",
       "      <th>11</th>\n",
       "      <td>lattice_angle_gamma_degree</td>\n",
       "      <td>434</td>\n",
       "      <td>float64</td>\n",
       "    </tr>\n",
       "    <tr>\n",
       "      <th>12</th>\n",
       "      <td>formation_energy_ev_natom</td>\n",
       "      <td>1733</td>\n",
       "      <td>float64</td>\n",
       "    </tr>\n",
       "    <tr>\n",
       "      <th>13</th>\n",
       "      <td>bandgap_energy_ev</td>\n",
       "      <td>2307</td>\n",
       "      <td>float64</td>\n",
       "    </tr>\n",
       "    <tr>\n",
       "      <th>14</th>\n",
       "      <td>ga_0</td>\n",
       "      <td>1935</td>\n",
       "      <td>float64</td>\n",
       "    </tr>\n",
       "    <tr>\n",
       "      <th>15</th>\n",
       "      <td>ga_1</td>\n",
       "      <td>1933</td>\n",
       "      <td>float64</td>\n",
       "    </tr>\n",
       "    <tr>\n",
       "      <th>16</th>\n",
       "      <td>ga_2</td>\n",
       "      <td>1935</td>\n",
       "      <td>float64</td>\n",
       "    </tr>\n",
       "    <tr>\n",
       "      <th>17</th>\n",
       "      <td>ga_3</td>\n",
       "      <td>1933</td>\n",
       "      <td>float64</td>\n",
       "    </tr>\n",
       "    <tr>\n",
       "      <th>18</th>\n",
       "      <td>ga_4</td>\n",
       "      <td>1935</td>\n",
       "      <td>float64</td>\n",
       "    </tr>\n",
       "    <tr>\n",
       "      <th>19</th>\n",
       "      <td>ga_5</td>\n",
       "      <td>1933</td>\n",
       "      <td>float64</td>\n",
       "    </tr>\n",
       "    <tr>\n",
       "      <th>20</th>\n",
       "      <td>al_0</td>\n",
       "      <td>1972</td>\n",
       "      <td>float64</td>\n",
       "    </tr>\n",
       "    <tr>\n",
       "      <th>21</th>\n",
       "      <td>al_1</td>\n",
       "      <td>1966</td>\n",
       "      <td>float64</td>\n",
       "    </tr>\n",
       "    <tr>\n",
       "      <th>22</th>\n",
       "      <td>al_2</td>\n",
       "      <td>1972</td>\n",
       "      <td>float64</td>\n",
       "    </tr>\n",
       "    <tr>\n",
       "      <th>23</th>\n",
       "      <td>al_3</td>\n",
       "      <td>1966</td>\n",
       "      <td>float64</td>\n",
       "    </tr>\n",
       "    <tr>\n",
       "      <th>24</th>\n",
       "      <td>al_4</td>\n",
       "      <td>1972</td>\n",
       "      <td>float64</td>\n",
       "    </tr>\n",
       "    <tr>\n",
       "      <th>25</th>\n",
       "      <td>al_5</td>\n",
       "      <td>1966</td>\n",
       "      <td>float64</td>\n",
       "    </tr>\n",
       "    <tr>\n",
       "      <th>26</th>\n",
       "      <td>in_0</td>\n",
       "      <td>1789</td>\n",
       "      <td>float64</td>\n",
       "    </tr>\n",
       "    <tr>\n",
       "      <th>27</th>\n",
       "      <td>in_1</td>\n",
       "      <td>1789</td>\n",
       "      <td>float64</td>\n",
       "    </tr>\n",
       "    <tr>\n",
       "      <th>28</th>\n",
       "      <td>in_2</td>\n",
       "      <td>1789</td>\n",
       "      <td>float64</td>\n",
       "    </tr>\n",
       "    <tr>\n",
       "      <th>29</th>\n",
       "      <td>in_3</td>\n",
       "      <td>1789</td>\n",
       "      <td>float64</td>\n",
       "    </tr>\n",
       "    <tr>\n",
       "      <th>30</th>\n",
       "      <td>in_4</td>\n",
       "      <td>1789</td>\n",
       "      <td>float64</td>\n",
       "    </tr>\n",
       "    <tr>\n",
       "      <th>31</th>\n",
       "      <td>in_5</td>\n",
       "      <td>1789</td>\n",
       "      <td>float64</td>\n",
       "    </tr>\n",
       "    <tr>\n",
       "      <th>32</th>\n",
       "      <td>o_0</td>\n",
       "      <td>1379</td>\n",
       "      <td>float64</td>\n",
       "    </tr>\n",
       "    <tr>\n",
       "      <th>33</th>\n",
       "      <td>o_1</td>\n",
       "      <td>1379</td>\n",
       "      <td>float64</td>\n",
       "    </tr>\n",
       "    <tr>\n",
       "      <th>34</th>\n",
       "      <td>o_2</td>\n",
       "      <td>1379</td>\n",
       "      <td>float64</td>\n",
       "    </tr>\n",
       "    <tr>\n",
       "      <th>35</th>\n",
       "      <td>o_3</td>\n",
       "      <td>1379</td>\n",
       "      <td>float64</td>\n",
       "    </tr>\n",
       "    <tr>\n",
       "      <th>36</th>\n",
       "      <td>o_4</td>\n",
       "      <td>1379</td>\n",
       "      <td>float64</td>\n",
       "    </tr>\n",
       "    <tr>\n",
       "      <th>37</th>\n",
       "      <td>o_5</td>\n",
       "      <td>1379</td>\n",
       "      <td>float64</td>\n",
       "    </tr>\n",
       "  </tbody>\n",
       "</table>\n",
       "</div>"
      ],
      "text/plain": [
       "                   Header Name  Unique Count Data Type\n",
       "0                           id          2400     int64\n",
       "1                   spacegroup             6     int64\n",
       "2        number_of_total_atoms             6   float64\n",
       "3              percent_atom_al            42   float64\n",
       "4              percent_atom_ga            42   float64\n",
       "5              percent_atom_in            42   float64\n",
       "6         lattice_vector_1_ang          1288   float64\n",
       "7         lattice_vector_2_ang          1216   float64\n",
       "8         lattice_vector_3_ang          1210   float64\n",
       "9   lattice_angle_alpha_degree           457   float64\n",
       "10   lattice_angle_beta_degree           566   float64\n",
       "11  lattice_angle_gamma_degree           434   float64\n",
       "12   formation_energy_ev_natom          1733   float64\n",
       "13           bandgap_energy_ev          2307   float64\n",
       "14                        ga_0          1935   float64\n",
       "15                        ga_1          1933   float64\n",
       "16                        ga_2          1935   float64\n",
       "17                        ga_3          1933   float64\n",
       "18                        ga_4          1935   float64\n",
       "19                        ga_5          1933   float64\n",
       "20                        al_0          1972   float64\n",
       "21                        al_1          1966   float64\n",
       "22                        al_2          1972   float64\n",
       "23                        al_3          1966   float64\n",
       "24                        al_4          1972   float64\n",
       "25                        al_5          1966   float64\n",
       "26                        in_0          1789   float64\n",
       "27                        in_1          1789   float64\n",
       "28                        in_2          1789   float64\n",
       "29                        in_3          1789   float64\n",
       "30                        in_4          1789   float64\n",
       "31                        in_5          1789   float64\n",
       "32                         o_0          1379   float64\n",
       "33                         o_1          1379   float64\n",
       "34                         o_2          1379   float64\n",
       "35                         o_3          1379   float64\n",
       "36                         o_4          1379   float64\n",
       "37                         o_5          1379   float64"
      ]
     },
     "execution_count": 8,
     "metadata": {},
     "output_type": "execute_result"
    }
   ],
   "source": [
    "data_distribution"
   ]
  },
  {
   "cell_type": "code",
   "execution_count": 11,
   "metadata": {},
   "outputs": [
    {
     "data": {
      "image/png": "[encoded data removed]",
      "text/plain": [
       "<Figure size 432x288 with 1 Axes>"
      ]
     },
     "metadata": {},
     "output_type": "display_data"
    },
    {
     "data": {
      "image/png": "[encoded data removed]",
      "text/plain": [
       "<Figure size 432x288 with 1 Axes>"
      ]
     },
     "metadata": {},
     "output_type": "display_data"
    },
    {
     "data": {
      "image/png": "[encoded data removed]",
      "text/plain": [
       "<Figure size 432x288 with 1 Axes>"
      ]
     },
     "metadata": {},
     "output_type": "display_data"
    },
    {
     "data": {
      "image/png": "[encoded data removed]",
      "text/plain": [
       "<Figure size 432x288 with 1 Axes>"
      ]
     },
     "metadata": {},
     "output_type": "display_data"
    },
    {
     "data": {
      "image/png": "[encoded data removed]",
      "text/plain": [
       "<Figure size 432x288 with 1 Axes>"
      ]
     },
     "metadata": {},
     "output_type": "display_data"
    },
    {
     "data": {
      "image/png": "[encoded data removed]",
      "text/plain": [
       "<Figure size 432x288 with 1 Axes>"
      ]
     },
     "metadata": {},
     "output_type": "display_data"
    },
    {
     "data": {
      "image/png": "[encoded data removed]",
      "text/plain": [
       "<Figure size 432x288 with 1 Axes>"
      ]
     },
     "metadata": {},
     "output_type": "display_data"
    },
    {
     "data": {
      "image/png": "[encoded data removed]",
      "text/plain": [
       "<Figure size 432x288 with 1 Axes>"
      ]
     },
     "metadata": {},
     "output_type": "display_data"
    },
    {
     "data": {
      "image/png": "[encoded data removed]",
      "text/plain": [
       "<Figure size 432x288 with 1 Axes>"
      ]
     },
     "metadata": {},
     "output_type": "display_data"
    }
   ],
   "source": [
    "space_groups_data = np.array(train_data['percent_atom_al'])\n",
    "plt.hist(space_groups_data,bins=30)\n",
    "plt.title(\"Histogram of percent_atom_al\")\n",
    "plt.xlabel(\"percent_atom_al\")\n",
    "plt.ylabel(\"number\")\n",
    "plt.savefig(\"percent_atom_al.jpg\")\n",
    "plt.show()\n",
    "\n",
    "space_groups_data = np.array(train_data['percent_atom_ga'])\n",
    "plt.hist(space_groups_data,bins=30)\n",
    "plt.title(\"Histogram of percent_atom_ga\")\n",
    "plt.xlabel(\"percent_atom_ga\")\n",
    "plt.ylabel(\"number\")\n",
    "plt.savefig(\"percent_atom_ga.jpg\")\n",
    "plt.show()\n",
    "\n",
    "space_groups_data = np.array(train_data['percent_atom_in'])\n",
    "plt.hist(space_groups_data,bins=30)\n",
    "plt.title(\"Histogram of percent_atom_in\")\n",
    "plt.xlabel(\"percent_atom_in\")\n",
    "plt.ylabel(\"number\")\n",
    "plt.savefig(\"percent_atom_in.jpg\")\n",
    "plt.show()\n",
    "\n",
    "space_groups_data = np.array(train_data['lattice_vector_1_ang'])\n",
    "plt.hist(space_groups_data,bins=30)\n",
    "plt.title(\"Histogram of lattice_vector_1_ang\")\n",
    "plt.xlabel(\"lattice_vector_1_ang\")\n",
    "plt.ylabel(\"number\")\n",
    "plt.savefig(\"lattice_vector_1_ang.jpg\")\n",
    "plt.show()\n",
    "\n",
    "space_groups_data = np.array(train_data['lattice_vector_2_ang'])\n",
    "plt.hist(space_groups_data,bins=30)\n",
    "plt.title(\"Histogram of lattice_vector_2_ang\")\n",
    "plt.xlabel(\"lattice_vector_2_ang\")\n",
    "plt.ylabel(\"number\")\n",
    "plt.savefig(\"lattice_vector_2_ang.jpg\")\n",
    "plt.show()\n",
    "\n",
    "space_groups_data = np.array(train_data['lattice_vector_3_ang'])\n",
    "plt.hist(space_groups_data,bins=30)\n",
    "plt.title(\"Histogram of lattice_vector_3_ang\")\n",
    "plt.xlabel(\"lattice_vector_3_ang\")\n",
    "plt.ylabel(\"number\")\n",
    "plt.savefig(\"lattice_vector_3_ang.jpg\")\n",
    "plt.show()\n",
    "\n",
    "space_groups_data = np.array(train_data['lattice_angle_alpha_degree'])\n",
    "plt.title(\"Histogram of lattice_angle_alpha_degree\")\n",
    "plt.xlabel(\"lattice_angle_alpha_degree\")\n",
    "plt.ylabel(\"number\")\n",
    "plt.hist(space_groups_data,bins=20)\n",
    "plt.savefig(\"lattice_angle_alpha_degree.jpg\")\n",
    "plt.show()\n",
    "\n",
    "space_groups_data = np.array(train_data['lattice_angle_beta_degree'])\n",
    "plt.title(\"Histogram of lattice_angle_beta_degree\")\n",
    "plt.xlabel(\"lattice_angle_beta_degree\")\n",
    "plt.ylabel(\"number\")\n",
    "plt.hist(space_groups_data,bins=20)\n",
    "plt.savefig(\"lattice_angle_beta_degree.jpg\")\n",
    "plt.show()\n",
    "\n",
    "space_groups_data = np.array(train_data['lattice_angle_gamma_degree'])\n",
    "plt.title(\"Histogram of lattice_angle_gamma_degree\")\n",
    "plt.xlabel(\"lattice_angle_gamma_degree\")\n",
    "plt.ylabel(\"number\")\n",
    "plt.hist(space_groups_data,bins=20)\n",
    "plt.savefig(\"lattice_angle_gamma_degree.jpg\")\n",
    "plt.show()"
   ]
  },
  {
   "cell_type": "code",
   "execution_count": 12,
   "metadata": {},
   "outputs": [
    {
     "data": {
      "image/png": "[encoded data removed]",
      "text/plain": [
       "<Figure size 432x288 with 1 Axes>"
      ]
     },
     "metadata": {},
     "output_type": "display_data"
    }
   ],
   "source": [
    "formation_energy_data = np.array(train_data['formation_energy_ev_natom'])\n",
    "plt.hist(formation_energy_data,bins=30)\n",
    "plt.title(\"Histogram of formation_energy_ev_natom\")\n",
    "plt.xlabel(\"formation_energy_ev_natom\")\n",
    "plt.ylabel(\"number\")\n",
    "plt.savefig(\"formation_energy_ev_natom.jpg\")\n",
    "plt.show()"
   ]
  },
  {
   "cell_type": "code",
   "execution_count": 13,
   "metadata": {},
   "outputs": [
    {
     "data": {
      "image/png": "[encoded data removed]",
      "text/plain": [
       "<Figure size 432x288 with 1 Axes>"
      ]
     },
     "metadata": {},
     "output_type": "display_data"
    }
   ],
   "source": [
    "bandgap_energy_data = np.array(train_data['bandgap_energy_ev'])\n",
    "plt.title(\"Histogram of bandgap_energy_ev\")\n",
    "plt.xlabel(\"bandgap_energy_ev\")\n",
    "plt.ylabel(\"number\")\n",
    "plt.hist(bandgap_energy_data,bins=30)\n",
    "plt.savefig(\"bandgap_energy_ev.jpg\")\n",
    "plt.show()"
   ]
  },
  {
   "cell_type": "markdown",
   "metadata": {},
   "source": [
    "# Extract Useful Data"
   ]
  },
  {
   "cell_type": "code",
   "execution_count": 8,
   "metadata": {},
   "outputs": [],
   "source": [
    "X_train = train_data.drop([\"id\",\"formation_energy_ev_natom\",\"bandgap_energy_ev\"],axis=1)\n",
    "Y_formation = train_data[\"formation_energy_ev_natom\"]\n",
    "Y_bandgap = train_data[\"bandgap_energy_ev\"]"
   ]
  },
  {
   "cell_type": "markdown",
   "metadata": {},
   "source": [
    "# Split for Different Tasks"
   ]
  },
  {
   "cell_type": "code",
   "execution_count": 9,
   "metadata": {},
   "outputs": [],
   "source": [
    "formation_X_train, formation_X_test, formation_Y_train, formation_Y_test = train_test_split(X_train,Y_formation,test_size=0.25,random_state=23)\n",
    "bandgap_X_train, bandgap_X_test, bandgap_Y_train, bandgap_Y_test = train_test_split(X_train,Y_bandgap,test_size=0.25,random_state=23)"
   ]
  },
  {
   "cell_type": "markdown",
   "metadata": {},
   "source": [
    "# Set up Model"
   ]
  },
  {
   "cell_type": "code",
   "execution_count": 10,
   "metadata": {},
   "outputs": [],
   "source": [
    "import time\n",
    "from sklearn.svm import SVR\n",
    "from sklearn.tree import DecisionTreeRegressor\n",
    "from sklearn.ensemble import AdaBoostRegressor, GradientBoostingRegressor, RandomForestRegressor\n",
    "from sklearn.linear_model import LinearRegression, Ridge, RANSACRegressor\n",
    "from xgboost.sklearn import XGBRegressor"
   ]
  },
  {
   "cell_type": "code",
   "execution_count": 11,
   "metadata": {},
   "outputs": [],
   "source": [
    "adb = AdaBoostRegressor()\n",
    "gbt = GradientBoostingRegressor()\n",
    "xgb = XGBRegressor()\n",
    "rf = RandomForestRegressor()\n",
    "\n",
    "models = {'ABR':adb,\n",
    "         'ABR_auto':adb,\n",
    "         'GBT': gbt,\n",
    "         'GBT_auto': gbt,\n",
    "         'XGB': xgb,\n",
    "         'XGB_auto': xgb,\n",
    "         'RF':rf}"
   ]
  },
  {
   "cell_type": "markdown",
   "metadata": {},
   "source": [
    "configure parameters"
   ]
  },
  {
   "cell_type": "code",
   "execution_count": 25,
   "metadata": {},
   "outputs": [],
   "source": [
    "def hyper_parameters(name):\n",
    "    if name=='ABR':\n",
    "        params = {\n",
    "            'adaboostregressor__n_estimators': [50,200,500],\n",
    "            'adaboostregressor__loss': ['exponential'],\n",
    "            'adaboostregressor__learning_rate': [0.05,0.1],\n",
    "            'adaboostregressor__n_estimators': [500]\n",
    "        }\n",
    "    elif name=='ABR_auto':\n",
    "        params = {}\n",
    "    elif name=='GBT':\n",
    "        params = {\n",
    "            'gradientboostingregressor__n_estimators': [200,500],\n",
    "            'gradientboostingregressor__learning_rate': [0.05,0.1],\n",
    "            'gradientboostingregressor__max_depth': [3,9,12]\n",
    "        }\n",
    "    elif name=='GBT_auto':\n",
    "        params = {}\n",
    "    elif name=='XGB':\n",
    "        params = {\n",
    "            'xgbregressor__max_depth': [13],\n",
    "            'xgbregressor__learning_rate': [0.1],\n",
    "            'xgbregressor__n_estimators': [80,500],\n",
    "            'xgbregressor__reg_lambda': [0.5],\n",
    "            'xgbregressor__max_delta_step': [0.3]\n",
    "        }\n",
    "    elif name=='XGB_auto':\n",
    "        params = {}\n",
    "    elif name=='RF':\n",
    "        params={}\n",
    "    \n",
    "    return params"
   ]
  },
  {
   "cell_type": "markdown",
   "metadata": {},
   "source": [
    "set up criteria"
   ]
  },
  {
   "cell_type": "code",
   "execution_count": 26,
   "metadata": {},
   "outputs": [],
   "source": [
    "def rmsle(pred,target):\n",
    "    return np.sqrt(np.square(np.log(pred + 1) - np.log(target + 1)).mean())\n",
    "def error_info(pred, target):\n",
    "    meansquare_error = mean_squared_error(pred, target)\n",
    "    r2square_error = r2_score(pred, target)\n",
    "    rmslog_error = rmsle(pred, target)\n",
    "    return (meansquare_error, r2square_error, rmslog_error)"
   ]
  },
  {
   "cell_type": "markdown",
   "metadata": {},
   "source": [
    "define pipeline process"
   ]
  },
  {
   "cell_type": "code",
   "execution_count": 27,
   "metadata": {},
   "outputs": [],
   "source": [
    "formation_train_reg = []          \n",
    "formation_test_error_scores = []\n",
    "bandgap_train_reg = []          \n",
    "bandgap_test_error_scores = []\n",
    "    \n",
    "def predict_evaluate(x_train, y_train, x_test, y_test, train_reg, test_error_scores):  \n",
    "    print (\" Start \")\n",
    "    t = time.time()\n",
    "    for i, model in models.items():\n",
    "       \n",
    "        pipe = make_pipeline(preprocessing.StandardScaler(), model)\n",
    "        hyperparameters = hyper_parameters(i)\n",
    "        model_opt = GridSearchCV(pipe, hyperparameters, cv=15)\n",
    "    \n",
    "        # Fit and predict train data\n",
    "        model_opt.fit(x_train, y_train)\n",
    "        \n",
    "        print (i,' trained best score :: ',model_opt.best_score_)\n",
    "        \n",
    "        #print (i,' - ',trainedclfs.best_params_)\n",
    "        \n",
    "        # predict test data\n",
    "        pred_test = model_opt.predict(x_test)\n",
    "        \n",
    "        # Get error scores on test data\n",
    "        mse, r2, rmsle = error_info(y_test, pred_test)\n",
    "\n",
    "        test_error_scores.append ((i,  mse, r2, rmsle))\n",
    "        train_reg.append ((i, model_opt))\n",
    "        \n",
    "    print (\" Training Completed ! \")    \n",
    "    print (\" Total training time :  ({0:.3f} s)\\n\".format(time.time() - t) )\n",
    "    return ( test_error_scores, train_reg)\n",
    "    \n",
    "def error_table (score, labels, sort_col ):\n",
    "    #labels  = ['Clf','mean absolute error','mean square error','R2 squared', 'Mean Sq Log Error', 'Root Mean Sq Log Error']\n",
    "    scored_df = pd.DataFrame.from_records(score, columns=labels, index = None)\n",
    "    sorted_scored = scored_df.sort_values(by = sort_col, ascending=True)\n",
    "    return sorted_scored"
   ]
  },
  {
   "cell_type": "markdown",
   "metadata": {},
   "source": [
    "# Formation Energy"
   ]
  },
  {
   "cell_type": "code",
   "execution_count": 28,
   "metadata": {},
   "outputs": [
    {
     "name": "stdout",
     "output_type": "stream",
     "text": [
      " Start \n",
      "ABR  trained best score ::  0.7063387318543534\n",
      "ABR_auto  trained best score ::  0.7012000311941503\n",
      "GBT  trained best score ::  0.8427379218337664\n",
      "GBT_auto  trained best score ::  0.840506253182015\n",
      "XGB  trained best score ::  0.8174545060342711\n",
      "XGB_auto  trained best score ::  0.839926802611108\n",
      "RF  trained best score ::  0.8309745380018564\n",
      " Training Completed ! \n",
      " Total training time :  (740.303 s)\n",
      "\n"
     ]
    }
   ],
   "source": [
    "form_error_scores, trained_pred_form = predict_evaluate(formation_X_train, formation_Y_train, \n",
    "                                                        formation_X_test, formation_Y_test, \n",
    "                                                        formation_train_reg, formation_test_error_scores)"
   ]
  },
  {
   "cell_type": "code",
   "execution_count": 29,
   "metadata": {},
   "outputs": [
    {
     "name": "stdout",
     "output_type": "stream",
     "text": [
      "Formation Energy scores : on test data - ordered by Mean Square Error : \n",
      "\n"
     ]
    },
    {
     "data": {
      "text/html": [
       "<div>\n",
       "<style scoped>\n",
       "    .dataframe tbody tr th:only-of-type {\n",
       "        vertical-align: middle;\n",
       "    }\n",
       "\n",
       "    .dataframe tbody tr th {\n",
       "        vertical-align: top;\n",
       "    }\n",
       "\n",
       "    .dataframe thead th {\n",
       "        text-align: right;\n",
       "    }\n",
       "</style>\n",
       "<table border=\"1\" class=\"dataframe\">\n",
       "  <thead>\n",
       "    <tr style=\"text-align: right;\">\n",
       "      <th></th>\n",
       "      <th>Models</th>\n",
       "      <th>MSE</th>\n",
       "      <th>R Squared</th>\n",
       "      <th>RMSLE</th>\n",
       "    </tr>\n",
       "  </thead>\n",
       "  <tbody>\n",
       "    <tr>\n",
       "      <th>5</th>\n",
       "      <td>XGB_auto</td>\n",
       "      <td>0.001794</td>\n",
       "      <td>0.834227</td>\n",
       "      <td>0.033912</td>\n",
       "    </tr>\n",
       "    <tr>\n",
       "      <th>3</th>\n",
       "      <td>GBT_auto</td>\n",
       "      <td>0.001834</td>\n",
       "      <td>0.830512</td>\n",
       "      <td>0.034290</td>\n",
       "    </tr>\n",
       "    <tr>\n",
       "      <th>6</th>\n",
       "      <td>RF</td>\n",
       "      <td>0.001880</td>\n",
       "      <td>0.826223</td>\n",
       "      <td>0.034539</td>\n",
       "    </tr>\n",
       "    <tr>\n",
       "      <th>2</th>\n",
       "      <td>GBT</td>\n",
       "      <td>0.001892</td>\n",
       "      <td>0.825165</td>\n",
       "      <td>0.034793</td>\n",
       "    </tr>\n",
       "    <tr>\n",
       "      <th>4</th>\n",
       "      <td>XGB</td>\n",
       "      <td>0.002027</td>\n",
       "      <td>0.812633</td>\n",
       "      <td>0.035854</td>\n",
       "    </tr>\n",
       "    <tr>\n",
       "      <th>1</th>\n",
       "      <td>ABR_auto</td>\n",
       "      <td>0.003078</td>\n",
       "      <td>0.715555</td>\n",
       "      <td>0.046529</td>\n",
       "    </tr>\n",
       "    <tr>\n",
       "      <th>0</th>\n",
       "      <td>ABR</td>\n",
       "      <td>0.003249</td>\n",
       "      <td>0.699739</td>\n",
       "      <td>0.047807</td>\n",
       "    </tr>\n",
       "  </tbody>\n",
       "</table>\n",
       "</div>"
      ],
      "text/plain": [
       "     Models       MSE  R Squared     RMSLE\n",
       "5  XGB_auto  0.001794   0.834227  0.033912\n",
       "3  GBT_auto  0.001834   0.830512  0.034290\n",
       "6        RF  0.001880   0.826223  0.034539\n",
       "2       GBT  0.001892   0.825165  0.034793\n",
       "4       XGB  0.002027   0.812633  0.035854\n",
       "1  ABR_auto  0.003078   0.715555  0.046529\n",
       "0       ABR  0.003249   0.699739  0.047807"
      ]
     },
     "execution_count": 29,
     "metadata": {},
     "output_type": "execute_result"
    }
   ],
   "source": [
    "labels  = ['Models','MSE', 'R Squared', 'RMSLE']\n",
    "print(\"Formation Energy scores : on test data - ordered by Mean Square Error : \\n\")\n",
    "error_table(form_error_scores, labels,'MSE')"
   ]
  },
  {
   "cell_type": "markdown",
   "metadata": {},
   "source": [
    "# Bandgap Energy"
   ]
  },
  {
   "cell_type": "code",
   "execution_count": null,
   "metadata": {},
   "outputs": [
    {
     "name": "stdout",
     "output_type": "stream",
     "text": [
      " Start \n",
      "ABR  trained best score ::  0.8844422352899749\n",
      "ABR_auto  trained best score ::  0.8791290069335246\n",
      "GBT  trained best score ::  0.9475250533625043\n",
      "GBT_auto  trained best score ::  0.9456528499902109\n"
     ]
    }
   ],
   "source": [
    "bandgap_error_scores, trained_pred_bandgap = predict_evaluate(bandgap_X_train, bandgap_Y_train, \n",
    "                                                              bandgap_X_test, bandgap_Y_test,\n",
    "                                                              bandgap_train_reg, bandgap_test_error_scores)"
   ]
  },
  {
   "cell_type": "code",
   "execution_count": null,
   "metadata": {},
   "outputs": [],
   "source": [
    "labels  = ['Models','MSE', 'R Squared', 'RMSLE']\n",
    "print(\"Bandgap Energy scores : on test data - ordered by Mean Square Error : \\n\")\n",
    "error_table(bandgap_error_scores, labels,'MSE')"
   ]
  },
  {
   "cell_type": "code",
   "execution_count": null,
   "metadata": {},
   "outputs": [],
   "source": []
  },
  {
   "cell_type": "code",
   "execution_count": null,
   "metadata": {},
   "outputs": [],
   "source": []
  },
  {
   "cell_type": "code",
   "execution_count": null,
   "metadata": {},
   "outputs": [],
   "source": []
  },
  {
   "cell_type": "markdown",
   "metadata": {},
   "source": [
    "# Final Test Prediction for Kaggle Submmit"
   ]
  },
  {
   "cell_type": "code",
   "execution_count": null,
   "metadata": {},
   "outputs": [],
   "source": [
    "test_data = pickle.load(open('../data/tree_new_test.pkl','rb'))\n",
    "test_data = test_data.drop([\"id\"],axis=1)"
   ]
  },
  {
   "cell_type": "code",
   "execution_count": null,
   "metadata": {},
   "outputs": [],
   "source": [
    "formation_submit = formation_train_reg[-1][1].predict(test_data)\n",
    "bandgap_submit = bandgap_train_reg[3][1].predict(test_data)\n",
    "idx = np.array([a for a in range(1,len(formation_submit)+1)])"
   ]
  },
  {
   "cell_type": "code",
   "execution_count": null,
   "metadata": {},
   "outputs": [],
   "source": [
    "sub_data = np.stack((idx,formation_submit,bandgap_submit)).T"
   ]
  },
  {
   "cell_type": "code",
   "execution_count": null,
   "metadata": {},
   "outputs": [],
   "source": [
    "sub_df = pd.DataFrame(sub_data,columns=[\"id\",\"formation_energy_ev_natom\",\"bandgap_energy_ev\"])\n",
    "sub_df[\"id\"] = sub_df[\"id\"].astype(\"int\")\n",
    "sub_df.set_index(\"id\")\n",
    "sub_df.to_csv(\"sub_5_31_2018.csv\",index=False)"
   ]
  },
  {
   "cell_type": "code",
   "execution_count": null,
   "metadata": {},
   "outputs": [],
   "source": []
  },
  {
   "cell_type": "code",
   "execution_count": null,
   "metadata": {},
   "outputs": [],
   "source": []
  }
 ],
 "metadata": {
  "kernelspec": {
   "display_name": "Python 3",
   "language": "python",
   "name": "python3"
  },
  "language_info": {
   "codemirror_mode": {
    "name": "ipython",
    "version": 3
   },
   "file_extension": ".py",
   "mimetype": "text/x-python",
   "name": "python",
   "nbconvert_exporter": "python",
   "pygments_lexer": "ipython3",
   "version": "3.6.4"
  }
 },
 "nbformat": 4,
 "nbformat_minor": 2
}
