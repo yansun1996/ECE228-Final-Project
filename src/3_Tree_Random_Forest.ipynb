{
 "cells": [
  {
   "cell_type": "code",
   "execution_count": 1,
   "metadata": {},
   "outputs": [
    {
     "data": {
      "text/html": [
       "<div>\n",
       "<style scoped>\n",
       "    .dataframe tbody tr th:only-of-type {\n",
       "        vertical-align: middle;\n",
       "    }\n",
       "\n",
       "    .dataframe tbody tr th {\n",
       "        vertical-align: top;\n",
       "    }\n",
       "\n",
       "    .dataframe thead th {\n",
       "        text-align: right;\n",
       "    }\n",
       "</style>\n",
       "<table border=\"1\" class=\"dataframe\">\n",
       "  <thead>\n",
       "    <tr style=\"text-align: right;\">\n",
       "      <th></th>\n",
       "      <th>Unnamed: 0</th>\n",
       "      <th>spacegroup</th>\n",
       "      <th>percent_atom_al</th>\n",
       "      <th>percent_atom_ga</th>\n",
       "      <th>percent_atom_in</th>\n",
       "      <th>lattice_vector_1_ang</th>\n",
       "      <th>lattice_vector_2_ang</th>\n",
       "      <th>lattice_vector_3_ang</th>\n",
       "      <th>lattice_angle_alpha_degree</th>\n",
       "      <th>lattice_angle_beta_degree</th>\n",
       "      <th>lattice_angle_gamma_degree</th>\n",
       "      <th>formation_energy_ev_natom</th>\n",
       "      <th>bandgap_energy_ev</th>\n",
       "    </tr>\n",
       "  </thead>\n",
       "  <tbody>\n",
       "    <tr>\n",
       "      <th>0</th>\n",
       "      <td>1462</td>\n",
       "      <td>206</td>\n",
       "      <td>0.1875</td>\n",
       "      <td>0.2500</td>\n",
       "      <td>0.5625</td>\n",
       "      <td>9.8238</td>\n",
       "      <td>9.8237</td>\n",
       "      <td>9.8238</td>\n",
       "      <td>90.0019</td>\n",
       "      <td>90.0020</td>\n",
       "      <td>89.9976</td>\n",
       "      <td>0.1833</td>\n",
       "      <td>1.3345</td>\n",
       "    </tr>\n",
       "    <tr>\n",
       "      <th>1</th>\n",
       "      <td>19</td>\n",
       "      <td>12</td>\n",
       "      <td>0.2500</td>\n",
       "      <td>0.2500</td>\n",
       "      <td>0.5000</td>\n",
       "      <td>12.2649</td>\n",
       "      <td>3.1889</td>\n",
       "      <td>6.3388</td>\n",
       "      <td>90.0000</td>\n",
       "      <td>105.0943</td>\n",
       "      <td>90.0001</td>\n",
       "      <td>0.2063</td>\n",
       "      <td>1.5596</td>\n",
       "    </tr>\n",
       "    <tr>\n",
       "      <th>2</th>\n",
       "      <td>970</td>\n",
       "      <td>206</td>\n",
       "      <td>0.6250</td>\n",
       "      <td>0.3750</td>\n",
       "      <td>0.0000</td>\n",
       "      <td>9.1418</td>\n",
       "      <td>9.1413</td>\n",
       "      <td>9.1413</td>\n",
       "      <td>90.0039</td>\n",
       "      <td>90.0043</td>\n",
       "      <td>89.9967</td>\n",
       "      <td>0.1051</td>\n",
       "      <td>3.6341</td>\n",
       "    </tr>\n",
       "    <tr>\n",
       "      <th>3</th>\n",
       "      <td>214</td>\n",
       "      <td>194</td>\n",
       "      <td>0.6875</td>\n",
       "      <td>0.3125</td>\n",
       "      <td>0.0000</td>\n",
       "      <td>6.1650</td>\n",
       "      <td>6.1648</td>\n",
       "      <td>23.5817</td>\n",
       "      <td>90.0177</td>\n",
       "      <td>89.9981</td>\n",
       "      <td>120.0032</td>\n",
       "      <td>0.2311</td>\n",
       "      <td>3.1668</td>\n",
       "    </tr>\n",
       "    <tr>\n",
       "      <th>4</th>\n",
       "      <td>2217</td>\n",
       "      <td>33</td>\n",
       "      <td>0.9062</td>\n",
       "      <td>0.0312</td>\n",
       "      <td>0.0625</td>\n",
       "      <td>9.8901</td>\n",
       "      <td>8.4916</td>\n",
       "      <td>9.1232</td>\n",
       "      <td>90.0055</td>\n",
       "      <td>90.0023</td>\n",
       "      <td>90.0012</td>\n",
       "      <td>0.1067</td>\n",
       "      <td>4.0881</td>\n",
       "    </tr>\n",
       "  </tbody>\n",
       "</table>\n",
       "</div>"
      ],
      "text/plain": [
       "   Unnamed: 0  spacegroup  percent_atom_al  percent_atom_ga  percent_atom_in  \\\n",
       "0        1462         206           0.1875           0.2500           0.5625   \n",
       "1          19          12           0.2500           0.2500           0.5000   \n",
       "2         970         206           0.6250           0.3750           0.0000   \n",
       "3         214         194           0.6875           0.3125           0.0000   \n",
       "4        2217          33           0.9062           0.0312           0.0625   \n",
       "\n",
       "   lattice_vector_1_ang  lattice_vector_2_ang  lattice_vector_3_ang  \\\n",
       "0                9.8238                9.8237                9.8238   \n",
       "1               12.2649                3.1889                6.3388   \n",
       "2                9.1418                9.1413                9.1413   \n",
       "3                6.1650                6.1648               23.5817   \n",
       "4                9.8901                8.4916                9.1232   \n",
       "\n",
       "   lattice_angle_alpha_degree  lattice_angle_beta_degree  \\\n",
       "0                     90.0019                    90.0020   \n",
       "1                     90.0000                   105.0943   \n",
       "2                     90.0039                    90.0043   \n",
       "3                     90.0177                    89.9981   \n",
       "4                     90.0055                    90.0023   \n",
       "\n",
       "   lattice_angle_gamma_degree  formation_energy_ev_natom  bandgap_energy_ev  \n",
       "0                     89.9976                     0.1833             1.3345  \n",
       "1                     90.0001                     0.2063             1.5596  \n",
       "2                     89.9967                     0.1051             3.6341  \n",
       "3                    120.0032                     0.2311             3.1668  \n",
       "4                     90.0012                     0.1067             4.0881  "
      ]
     },
     "execution_count": 1,
     "metadata": {},
     "output_type": "execute_result"
    }
   ],
   "source": [
    "import pandas as pd\n",
    "import numpy as np\n",
    "import matplotlib.pyplot as plt\n",
    "\n",
    "# Import dataset\n",
    "train = pd.read_csv('train.csv')\n",
    "valid = pd.read_csv('valid.csv')\n",
    "test = pd.read_csv('test.csv')\n",
    "\n",
    "# attach train and valid\n",
    "train = pd.concat([train, valid], axis=0)\n",
    "train.head()"
   ]
  },
  {
   "cell_type": "code",
   "execution_count": 2,
   "metadata": {},
   "outputs": [
    {
     "name": "stdout",
     "output_type": "stream",
     "text": [
      "(1920, 10) (1920, 2) (480, 10) (480, 2)\n"
     ]
    }
   ],
   "source": [
    "# Create features and labels & split training/crossvalidation/testing set\n",
    "\n",
    "# list all features and labels\n",
    "features = ['spacegroup', 'percent_atom_al', 'percent_atom_ga', 'percent_atom_in', \n",
    "            'lattice_vector_1_ang', 'lattice_vector_2_ang', 'lattice_vector_3_ang', 'lattice_angle_alpha_degree',\n",
    "            'lattice_angle_beta_degree', 'lattice_angle_gamma_degree']\n",
    "labels = ['formation_energy_ev_natom', 'bandgap_energy_ev']\n",
    "\n",
    "xtrain = np.array(train[features])\n",
    "ytrain = np.array(train[labels])\n",
    "xtest  = np.array(test[features])\n",
    "ytest  = np.array(test[labels])\n",
    "\n",
    "# check the shape\n",
    "print(xtrain.shape, ytrain.shape, xtest.shape, ytest.shape)"
   ]
  },
  {
   "cell_type": "code",
   "execution_count": 3,
   "metadata": {},
   "outputs": [
    {
     "data": {
      "text/plain": [
       "RandomForestRegressor(bootstrap=True, criterion='mse', max_depth=9,\n",
       "           max_features='auto', max_leaf_nodes=None,\n",
       "           min_impurity_decrease=0.0, min_impurity_split=None,\n",
       "           min_samples_leaf=1, min_samples_split=2,\n",
       "           min_weight_fraction_leaf=0.0, n_estimators=500, n_jobs=1,\n",
       "           oob_score=False, random_state=42, verbose=0, warm_start=False)"
      ]
     },
     "execution_count": 3,
     "metadata": {},
     "output_type": "execute_result"
    }
   ],
   "source": [
    "# Training\n",
    "\n",
    "# import models\n",
    "from sklearn.ensemble import RandomForestRegressor\n",
    "\n",
    "# initialize a random forest algorithm\n",
    "rf = RandomForestRegressor(n_estimators=500, max_depth=9, random_state=42)\n",
    "\n",
    "# fit to training data\n",
    "rf.fit(xtrain,ytrain)"
   ]
  },
  {
   "cell_type": "code",
   "execution_count": 4,
   "metadata": {
    "scrolled": true
   },
   "outputs": [
    {
     "name": "stdout",
     "output_type": "stream",
     "text": [
      "[0.02380021 0.16491777 0.0065769  0.581574   0.0613244  0.01404501\n",
      " 0.10116761 0.02319311 0.01154656 0.01185444]\n",
      "###training###\n",
      " score: 0.9796404037132523\n",
      "###testing###\n",
      " score: 0.9471060323355891\n",
      "RMLSE: 0.06836176337517615\n"
     ]
    }
   ],
   "source": [
    "# evaluate performance\n",
    "print(rf.feature_importances_)\n",
    "\n",
    "# training\n",
    "print('###training###\\n', 'score:', rf.score(xtrain, ytrain))\n",
    "# test\n",
    "print('###testing###\\n', 'score:', rf.score(xtest, ytest))\n",
    "ypred = rf.predict(xtest)\n",
    "\n",
    "def rmsle(pred,target):\n",
    "    return np.sqrt(np.square(np.log(pred + 1) - np.log(target + 1)).mean())\n",
    "\n",
    "err = rmsle(ypred, ytest)\n",
    "print('RMLSE:', err)"
   ]
  },
  {
   "cell_type": "code",
   "execution_count": 5,
   "metadata": {},
   "outputs": [],
   "source": [
    "# validation\n",
    "from sklearn.model_selection import cross_val_score\n",
    "\n",
    "scr = np.zeros([5,10])\n",
    "for i in range(5):\n",
    "    n_trees = (i+1)*100\n",
    "    for j in range(10):\n",
    "        rf = RandomForestRegressor(n_estimators=n_trees, max_depth=j+5, random_state=42)\n",
    "        scores = cross_val_score(rf, xtrain, ytrain, cv=5)\n",
    "        scr[i,j]=scores.mean()\n"
   ]
  },
  {
   "cell_type": "code",
   "execution_count": 6,
   "metadata": {},
   "outputs": [
    {
     "data": {
      "image/png": "[encoded data removed]",
      "text/plain": [
       "<matplotlib.figure.Figure at 0x23b62c470f0>"
      ]
     },
     "metadata": {},
     "output_type": "display_data"
    }
   ],
   "source": [
    "# number of trees = 500\n",
    "depth = np.arange(5,15)\n",
    "plt.plot(depth, scr[4])\n",
    "plt.xlabel('Max Depth of Each Tree')\n",
    "plt.ylabel('RMSLE')\n",
    "plt.show()\n"
   ]
  },
  {
   "cell_type": "code",
   "execution_count": 7,
   "metadata": {},
   "outputs": [],
   "source": [
    "from sklearn.model_selection import cross_val_score\n",
    "\n",
    "scr = []\n",
    "for j in range(10):\n",
    "    depth = 9\n",
    "    rf = RandomForestRegressor(n_estimators=n_trees, max_depth=9, random_state=42)\n",
    "    scores = cross_val_score(rf, xtrain, ytrain, cv=5)\n",
    "    scr.append(scores.mean())\n"
   ]
  },
  {
   "cell_type": "code",
   "execution_count": 8,
   "metadata": {
    "scrolled": true
   },
   "outputs": [
    {
     "data": {
      "text/html": [
       "<div>\n",
       "<style scoped>\n",
       "    .dataframe tbody tr th:only-of-type {\n",
       "        vertical-align: middle;\n",
       "    }\n",
       "\n",
       "    .dataframe tbody tr th {\n",
       "        vertical-align: top;\n",
       "    }\n",
       "\n",
       "    .dataframe thead th {\n",
       "        text-align: right;\n",
       "    }\n",
       "</style>\n",
       "<table border=\"1\" class=\"dataframe\">\n",
       "  <thead>\n",
       "    <tr style=\"text-align: right;\">\n",
       "      <th></th>\n",
       "      <th>id</th>\n",
       "      <th>spacegroup</th>\n",
       "      <th>number_of_total_atoms</th>\n",
       "      <th>percent_atom_al</th>\n",
       "      <th>percent_atom_ga</th>\n",
       "      <th>percent_atom_in</th>\n",
       "      <th>lattice_vector_1_ang</th>\n",
       "      <th>lattice_vector_2_ang</th>\n",
       "      <th>lattice_vector_3_ang</th>\n",
       "      <th>lattice_angle_alpha_degree</th>\n",
       "      <th>lattice_angle_beta_degree</th>\n",
       "      <th>lattice_angle_gamma_degree</th>\n",
       "    </tr>\n",
       "  </thead>\n",
       "  <tbody>\n",
       "    <tr>\n",
       "      <th>0</th>\n",
       "      <td>1</td>\n",
       "      <td>33</td>\n",
       "      <td>80.0</td>\n",
       "      <td>0.1875</td>\n",
       "      <td>0.4688</td>\n",
       "      <td>0.3438</td>\n",
       "      <td>10.5381</td>\n",
       "      <td>9.0141</td>\n",
       "      <td>9.6361</td>\n",
       "      <td>89.9997</td>\n",
       "      <td>90.0003</td>\n",
       "      <td>90.0006</td>\n",
       "    </tr>\n",
       "    <tr>\n",
       "      <th>1</th>\n",
       "      <td>2</td>\n",
       "      <td>33</td>\n",
       "      <td>80.0</td>\n",
       "      <td>0.7500</td>\n",
       "      <td>0.2500</td>\n",
       "      <td>0.0000</td>\n",
       "      <td>9.8938</td>\n",
       "      <td>8.5014</td>\n",
       "      <td>9.1298</td>\n",
       "      <td>90.0038</td>\n",
       "      <td>90.0023</td>\n",
       "      <td>90.0015</td>\n",
       "    </tr>\n",
       "    <tr>\n",
       "      <th>2</th>\n",
       "      <td>3</td>\n",
       "      <td>167</td>\n",
       "      <td>30.0</td>\n",
       "      <td>0.6667</td>\n",
       "      <td>0.1667</td>\n",
       "      <td>0.1667</td>\n",
       "      <td>4.9811</td>\n",
       "      <td>4.9808</td>\n",
       "      <td>13.4799</td>\n",
       "      <td>89.9900</td>\n",
       "      <td>90.0109</td>\n",
       "      <td>120.0014</td>\n",
       "    </tr>\n",
       "    <tr>\n",
       "      <th>3</th>\n",
       "      <td>4</td>\n",
       "      <td>12</td>\n",
       "      <td>80.0</td>\n",
       "      <td>0.5625</td>\n",
       "      <td>0.4375</td>\n",
       "      <td>0.0000</td>\n",
       "      <td>24.3370</td>\n",
       "      <td>6.0091</td>\n",
       "      <td>5.7620</td>\n",
       "      <td>89.9995</td>\n",
       "      <td>103.8581</td>\n",
       "      <td>90.0002</td>\n",
       "    </tr>\n",
       "    <tr>\n",
       "      <th>4</th>\n",
       "      <td>5</td>\n",
       "      <td>12</td>\n",
       "      <td>80.0</td>\n",
       "      <td>0.1875</td>\n",
       "      <td>0.5000</td>\n",
       "      <td>0.3125</td>\n",
       "      <td>24.6443</td>\n",
       "      <td>6.2906</td>\n",
       "      <td>6.1589</td>\n",
       "      <td>90.0000</td>\n",
       "      <td>104.5929</td>\n",
       "      <td>90.0001</td>\n",
       "    </tr>\n",
       "  </tbody>\n",
       "</table>\n",
       "</div>"
      ],
      "text/plain": [
       "   id  spacegroup  number_of_total_atoms  percent_atom_al  percent_atom_ga  \\\n",
       "0   1          33                   80.0           0.1875           0.4688   \n",
       "1   2          33                   80.0           0.7500           0.2500   \n",
       "2   3         167                   30.0           0.6667           0.1667   \n",
       "3   4          12                   80.0           0.5625           0.4375   \n",
       "4   5          12                   80.0           0.1875           0.5000   \n",
       "\n",
       "   percent_atom_in  lattice_vector_1_ang  lattice_vector_2_ang  \\\n",
       "0           0.3438               10.5381                9.0141   \n",
       "1           0.0000                9.8938                8.5014   \n",
       "2           0.1667                4.9811                4.9808   \n",
       "3           0.0000               24.3370                6.0091   \n",
       "4           0.3125               24.6443                6.2906   \n",
       "\n",
       "   lattice_vector_3_ang  lattice_angle_alpha_degree  \\\n",
       "0                9.6361                     89.9997   \n",
       "1                9.1298                     90.0038   \n",
       "2               13.4799                     89.9900   \n",
       "3                5.7620                     89.9995   \n",
       "4                6.1589                     90.0000   \n",
       "\n",
       "   lattice_angle_beta_degree  lattice_angle_gamma_degree  \n",
       "0                    90.0003                     90.0006  \n",
       "1                    90.0023                     90.0015  \n",
       "2                    90.0109                    120.0014  \n",
       "3                   103.8581                     90.0002  \n",
       "4                   104.5929                     90.0001  "
      ]
     },
     "execution_count": 8,
     "metadata": {},
     "output_type": "execute_result"
    }
   ],
   "source": [
    "fin_test = pd.read_csv('raw data/test.csv')\n",
    "fin_test.head()"
   ]
  },
  {
   "cell_type": "code",
   "execution_count": 9,
   "metadata": {},
   "outputs": [],
   "source": [
    "final_test  = np.array(fin_test[features])\n",
    "rf = RandomForestRegressor(n_estimators=500, max_depth=9, random_state=42)\n",
    "rf.fit(xtrain,ytrain)\n",
    "final_pred = rf.predict(final_test)"
   ]
  },
  {
   "cell_type": "code",
   "execution_count": 10,
   "metadata": {},
   "outputs": [],
   "source": [
    "d = {labels[0]:final_pred[:,0], labels[1]:final_pred[:,1]}\n",
    "final = pd.DataFrame(data=d)\n",
    "submission = final.to_csv('submission.csv')"
   ]
  },
  {
   "cell_type": "code",
   "execution_count": 11,
   "metadata": {},
   "outputs": [
    {
     "data": {
      "text/plain": [
       "RandomForestRegressor(bootstrap=True, criterion='mse', max_depth=9,\n",
       "           max_features='auto', max_leaf_nodes=None,\n",
       "           min_impurity_decrease=0.0, min_impurity_split=None,\n",
       "           min_samples_leaf=1, min_samples_split=2,\n",
       "           min_weight_fraction_leaf=0.0, n_estimators=500, n_jobs=1,\n",
       "           oob_score=False, random_state=42, verbose=0, warm_start=False)"
      ]
     },
     "execution_count": 11,
     "metadata": {},
     "output_type": "execute_result"
    }
   ],
   "source": [
    "# initialize a random forest algorithm\n",
    "rf1 = RandomForestRegressor(n_estimators=500, max_depth=9, random_state=42)\n",
    "\n",
    "# fit to training data\n",
    "rf1.fit(xtrain,ytrain[:,0])\n",
    "\n",
    "rf2 = RandomForestRegressor(n_estimators=500, max_depth=9, random_state=42)\n",
    "rf2.fit(xtrain,ytrain[:,1])"
   ]
  },
  {
   "cell_type": "code",
   "execution_count": 12,
   "metadata": {},
   "outputs": [
    {
     "name": "stdout",
     "output_type": "stream",
     "text": [
      "0.03223753303797869 0.09095328567965108\n"
     ]
    }
   ],
   "source": [
    "y1 = rf1.predict(xtest)\n",
    "y2 = rf2.predict(xtest)\n",
    "err1 = rmsle(y1, ytest[:,0])\n",
    "err2 = rmsle(y2, ytest[:,1])\n",
    "print(err1, err2)"
   ]
  },
  {
   "cell_type": "code",
   "execution_count": null,
   "metadata": {},
   "outputs": [],
   "source": []
  },
  {
   "cell_type": "code",
   "execution_count": null,
   "metadata": {},
   "outputs": [],
   "source": []
  }
 ],
 "metadata": {
  "kernelspec": {
   "display_name": "Python 3",
   "language": "python",
   "name": "python3"
  },
  "language_info": {
   "codemirror_mode": {
    "name": "ipython",
    "version": 3
   },
   "file_extension": ".py",
   "mimetype": "text/x-python",
   "name": "python",
   "nbconvert_exporter": "python",
   "pygments_lexer": "ipython3",
   "version": "3.6.4"
  }
 },
 "nbformat": 4,
 "nbformat_minor": 2
}
